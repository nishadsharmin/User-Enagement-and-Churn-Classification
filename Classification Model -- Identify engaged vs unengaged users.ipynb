{
 "cells": [
  {
   "cell_type": "code",
   "execution_count": 1,
   "metadata": {},
   "outputs": [],
   "source": [
    "import pandas as pd\n",
    "import datetime"
   ]
  },
  {
   "cell_type": "markdown",
   "metadata": {},
   "source": [
    "#### Read all the data files"
   ]
  },
  {
   "cell_type": "code",
   "execution_count": 2,
   "metadata": {
    "scrolled": true
   },
   "outputs": [],
   "source": [
    "devices = pd.read_csv('/Users/nisha/Downloads/rev-devices.csv')\n",
    "transactions = pd.read_csv('/Users/nisha/Downloads/transactions.csv')\n",
    "users = pd.read_csv('/Users/nisha/Downloads/rev-users.csv')\n",
    "notifications = pd.read_csv('/Users/nisha/Downloads/rev-notifications.csv')"
   ]
  },
  {
   "cell_type": "code",
   "execution_count": 3,
   "metadata": {},
   "outputs": [
    {
     "data": {
      "text/html": [
       "<div>\n",
       "<style scoped>\n",
       "    .dataframe tbody tr th:only-of-type {\n",
       "        vertical-align: middle;\n",
       "    }\n",
       "\n",
       "    .dataframe tbody tr th {\n",
       "        vertical-align: top;\n",
       "    }\n",
       "\n",
       "    .dataframe thead th {\n",
       "        text-align: right;\n",
       "    }\n",
       "</style>\n",
       "<table border=\"1\" class=\"dataframe\">\n",
       "  <thead>\n",
       "    <tr style=\"text-align: right;\">\n",
       "      <th></th>\n",
       "      <th>brand</th>\n",
       "      <th>user_id</th>\n",
       "    </tr>\n",
       "  </thead>\n",
       "  <tbody>\n",
       "    <tr>\n",
       "      <th>0</th>\n",
       "      <td>Android</td>\n",
       "      <td>user_3257</td>\n",
       "    </tr>\n",
       "    <tr>\n",
       "      <th>1</th>\n",
       "      <td>Apple</td>\n",
       "      <td>user_6809</td>\n",
       "    </tr>\n",
       "    <tr>\n",
       "      <th>2</th>\n",
       "      <td>Android</td>\n",
       "      <td>user_9144</td>\n",
       "    </tr>\n",
       "    <tr>\n",
       "      <th>3</th>\n",
       "      <td>Apple</td>\n",
       "      <td>user_3636</td>\n",
       "    </tr>\n",
       "    <tr>\n",
       "      <th>4</th>\n",
       "      <td>Android</td>\n",
       "      <td>user_5970</td>\n",
       "    </tr>\n",
       "  </tbody>\n",
       "</table>\n",
       "</div>"
      ],
      "text/plain": [
       "     brand    user_id\n",
       "0  Android  user_3257\n",
       "1    Apple  user_6809\n",
       "2  Android  user_9144\n",
       "3    Apple  user_3636\n",
       "4  Android  user_5970"
      ]
     },
     "execution_count": 3,
     "metadata": {},
     "output_type": "execute_result"
    }
   ],
   "source": [
    "devices.head()"
   ]
  },
  {
   "cell_type": "code",
   "execution_count": 4,
   "metadata": {},
   "outputs": [
    {
     "data": {
      "text/html": [
       "<div>\n",
       "<style scoped>\n",
       "    .dataframe tbody tr th:only-of-type {\n",
       "        vertical-align: middle;\n",
       "    }\n",
       "\n",
       "    .dataframe tbody tr th {\n",
       "        vertical-align: top;\n",
       "    }\n",
       "\n",
       "    .dataframe thead th {\n",
       "        text-align: right;\n",
       "    }\n",
       "</style>\n",
       "<table border=\"1\" class=\"dataframe\">\n",
       "  <thead>\n",
       "    <tr style=\"text-align: right;\">\n",
       "      <th></th>\n",
       "      <th>user_id</th>\n",
       "      <th>birth_year</th>\n",
       "      <th>country</th>\n",
       "      <th>city</th>\n",
       "      <th>created_date</th>\n",
       "      <th>user_settings_crypto_unlocked</th>\n",
       "      <th>plan</th>\n",
       "      <th>attributes_notifications_marketing_push</th>\n",
       "      <th>attributes_notifications_marketing_email</th>\n",
       "      <th>num_contacts</th>\n",
       "      <th>num_referrals</th>\n",
       "      <th>num_successful_referrals</th>\n",
       "    </tr>\n",
       "  </thead>\n",
       "  <tbody>\n",
       "    <tr>\n",
       "      <th>0</th>\n",
       "      <td>user_0</td>\n",
       "      <td>1989</td>\n",
       "      <td>PL</td>\n",
       "      <td>Gdansk</td>\n",
       "      <td>2018-01-13 05:15:15.599466</td>\n",
       "      <td>1</td>\n",
       "      <td>STANDARD</td>\n",
       "      <td>1.0</td>\n",
       "      <td>1.0</td>\n",
       "      <td>3</td>\n",
       "      <td>0</td>\n",
       "      <td>0</td>\n",
       "    </tr>\n",
       "    <tr>\n",
       "      <th>1</th>\n",
       "      <td>user_1</td>\n",
       "      <td>1975</td>\n",
       "      <td>GB</td>\n",
       "      <td>London</td>\n",
       "      <td>2018-01-29 03:38:46.676876</td>\n",
       "      <td>0</td>\n",
       "      <td>STANDARD</td>\n",
       "      <td>NaN</td>\n",
       "      <td>NaN</td>\n",
       "      <td>21</td>\n",
       "      <td>0</td>\n",
       "      <td>0</td>\n",
       "    </tr>\n",
       "    <tr>\n",
       "      <th>2</th>\n",
       "      <td>user_2</td>\n",
       "      <td>1987</td>\n",
       "      <td>PL</td>\n",
       "      <td>Poznań</td>\n",
       "      <td>2018-01-18 19:17:31.229096</td>\n",
       "      <td>0</td>\n",
       "      <td>STANDARD</td>\n",
       "      <td>0.0</td>\n",
       "      <td>0.0</td>\n",
       "      <td>21</td>\n",
       "      <td>0</td>\n",
       "      <td>0</td>\n",
       "    </tr>\n",
       "    <tr>\n",
       "      <th>3</th>\n",
       "      <td>user_3</td>\n",
       "      <td>1994</td>\n",
       "      <td>FR</td>\n",
       "      <td>Paris</td>\n",
       "      <td>2018-01-15 18:47:56.723104</td>\n",
       "      <td>0</td>\n",
       "      <td>STANDARD</td>\n",
       "      <td>1.0</td>\n",
       "      <td>0.0</td>\n",
       "      <td>0</td>\n",
       "      <td>0</td>\n",
       "      <td>0</td>\n",
       "    </tr>\n",
       "    <tr>\n",
       "      <th>4</th>\n",
       "      <td>user_4</td>\n",
       "      <td>1985</td>\n",
       "      <td>GB</td>\n",
       "      <td>Beckenham</td>\n",
       "      <td>2018-01-11 00:36:46.673673</td>\n",
       "      <td>0</td>\n",
       "      <td>STANDARD</td>\n",
       "      <td>NaN</td>\n",
       "      <td>NaN</td>\n",
       "      <td>2</td>\n",
       "      <td>0</td>\n",
       "      <td>0</td>\n",
       "    </tr>\n",
       "  </tbody>\n",
       "</table>\n",
       "</div>"
      ],
      "text/plain": [
       "  user_id  birth_year country       city                created_date  \\\n",
       "0  user_0        1989      PL     Gdansk  2018-01-13 05:15:15.599466   \n",
       "1  user_1        1975      GB     London  2018-01-29 03:38:46.676876   \n",
       "2  user_2        1987      PL     Poznań  2018-01-18 19:17:31.229096   \n",
       "3  user_3        1994      FR      Paris  2018-01-15 18:47:56.723104   \n",
       "4  user_4        1985      GB  Beckenham  2018-01-11 00:36:46.673673   \n",
       "\n",
       "   user_settings_crypto_unlocked      plan  \\\n",
       "0                              1  STANDARD   \n",
       "1                              0  STANDARD   \n",
       "2                              0  STANDARD   \n",
       "3                              0  STANDARD   \n",
       "4                              0  STANDARD   \n",
       "\n",
       "   attributes_notifications_marketing_push  \\\n",
       "0                                      1.0   \n",
       "1                                      NaN   \n",
       "2                                      0.0   \n",
       "3                                      1.0   \n",
       "4                                      NaN   \n",
       "\n",
       "   attributes_notifications_marketing_email  num_contacts  num_referrals  \\\n",
       "0                                       1.0             3              0   \n",
       "1                                       NaN            21              0   \n",
       "2                                       0.0            21              0   \n",
       "3                                       0.0             0              0   \n",
       "4                                       NaN             2              0   \n",
       "\n",
       "   num_successful_referrals  \n",
       "0                         0  \n",
       "1                         0  \n",
       "2                         0  \n",
       "3                         0  \n",
       "4                         0  "
      ]
     },
     "execution_count": 4,
     "metadata": {},
     "output_type": "execute_result"
    }
   ],
   "source": [
    "users.head()"
   ]
  },
  {
   "cell_type": "code",
   "execution_count": 5,
   "metadata": {},
   "outputs": [
    {
     "data": {
      "text/html": [
       "<div>\n",
       "<style scoped>\n",
       "    .dataframe tbody tr th:only-of-type {\n",
       "        vertical-align: middle;\n",
       "    }\n",
       "\n",
       "    .dataframe tbody tr th {\n",
       "        vertical-align: top;\n",
       "    }\n",
       "\n",
       "    .dataframe thead th {\n",
       "        text-align: right;\n",
       "    }\n",
       "</style>\n",
       "<table border=\"1\" class=\"dataframe\">\n",
       "  <thead>\n",
       "    <tr style=\"text-align: right;\">\n",
       "      <th></th>\n",
       "      <th>transaction_id</th>\n",
       "      <th>transactions_type</th>\n",
       "      <th>transactions_currency</th>\n",
       "      <th>amount_usd</th>\n",
       "      <th>transactions_state</th>\n",
       "      <th>ea_cardholderpresence</th>\n",
       "      <th>ea_merchant_mcc</th>\n",
       "      <th>ea_merchant_city</th>\n",
       "      <th>ea_merchant_country</th>\n",
       "      <th>direction</th>\n",
       "      <th>user_id</th>\n",
       "      <th>created_date</th>\n",
       "    </tr>\n",
       "  </thead>\n",
       "  <tbody>\n",
       "    <tr>\n",
       "      <th>0</th>\n",
       "      <td>transaction_0</td>\n",
       "      <td>TRANSFER</td>\n",
       "      <td>AED</td>\n",
       "      <td>4.55</td>\n",
       "      <td>COMPLETED</td>\n",
       "      <td>NaN</td>\n",
       "      <td>NaN</td>\n",
       "      <td>NaN</td>\n",
       "      <td>NaN</td>\n",
       "      <td>OUTBOUND</td>\n",
       "      <td>user_898</td>\n",
       "      <td>2018-04-03 03:34:21.784487</td>\n",
       "    </tr>\n",
       "    <tr>\n",
       "      <th>1</th>\n",
       "      <td>transaction_1</td>\n",
       "      <td>CARD_PAYMENT</td>\n",
       "      <td>AED</td>\n",
       "      <td>15.50</td>\n",
       "      <td>COMPLETED</td>\n",
       "      <td>FALSE</td>\n",
       "      <td>4111.0</td>\n",
       "      <td>Dubai</td>\n",
       "      <td>ARE</td>\n",
       "      <td>OUTBOUND</td>\n",
       "      <td>user_1652</td>\n",
       "      <td>2019-03-19 06:15:59.537032</td>\n",
       "    </tr>\n",
       "    <tr>\n",
       "      <th>2</th>\n",
       "      <td>transaction_2</td>\n",
       "      <td>CARD_PAYMENT</td>\n",
       "      <td>AED</td>\n",
       "      <td>43.40</td>\n",
       "      <td>COMPLETED</td>\n",
       "      <td>FALSE</td>\n",
       "      <td>5814.0</td>\n",
       "      <td>Dubai</td>\n",
       "      <td>ARE</td>\n",
       "      <td>OUTBOUND</td>\n",
       "      <td>user_1652</td>\n",
       "      <td>2019-03-18 18:53:41.323032</td>\n",
       "    </tr>\n",
       "    <tr>\n",
       "      <th>3</th>\n",
       "      <td>transaction_3</td>\n",
       "      <td>TRANSFER</td>\n",
       "      <td>AED</td>\n",
       "      <td>10043.01</td>\n",
       "      <td>COMPLETED</td>\n",
       "      <td>NaN</td>\n",
       "      <td>NaN</td>\n",
       "      <td>NaN</td>\n",
       "      <td>NaN</td>\n",
       "      <td>OUTBOUND</td>\n",
       "      <td>user_1652</td>\n",
       "      <td>2019-03-22 14:20:01.513032</td>\n",
       "    </tr>\n",
       "    <tr>\n",
       "      <th>4</th>\n",
       "      <td>transaction_4</td>\n",
       "      <td>CARD_PAYMENT</td>\n",
       "      <td>AED</td>\n",
       "      <td>43.81</td>\n",
       "      <td>COMPLETED</td>\n",
       "      <td>FALSE</td>\n",
       "      <td>5651.0</td>\n",
       "      <td>Abu Dhabi</td>\n",
       "      <td>ARE</td>\n",
       "      <td>OUTBOUND</td>\n",
       "      <td>user_5509</td>\n",
       "      <td>2019-03-22 05:42:50.316652</td>\n",
       "    </tr>\n",
       "  </tbody>\n",
       "</table>\n",
       "</div>"
      ],
      "text/plain": [
       "  transaction_id transactions_type transactions_currency  amount_usd  \\\n",
       "0  transaction_0          TRANSFER                   AED        4.55   \n",
       "1  transaction_1      CARD_PAYMENT                   AED       15.50   \n",
       "2  transaction_2      CARD_PAYMENT                   AED       43.40   \n",
       "3  transaction_3          TRANSFER                   AED    10043.01   \n",
       "4  transaction_4      CARD_PAYMENT                   AED       43.81   \n",
       "\n",
       "  transactions_state ea_cardholderpresence  ea_merchant_mcc ea_merchant_city  \\\n",
       "0          COMPLETED                   NaN              NaN              NaN   \n",
       "1          COMPLETED                 FALSE           4111.0            Dubai   \n",
       "2          COMPLETED                 FALSE           5814.0            Dubai   \n",
       "3          COMPLETED                   NaN              NaN              NaN   \n",
       "4          COMPLETED                 FALSE           5651.0        Abu Dhabi   \n",
       "\n",
       "  ea_merchant_country direction    user_id                created_date  \n",
       "0                 NaN  OUTBOUND   user_898  2018-04-03 03:34:21.784487  \n",
       "1                 ARE  OUTBOUND  user_1652  2019-03-19 06:15:59.537032  \n",
       "2                 ARE  OUTBOUND  user_1652  2019-03-18 18:53:41.323032  \n",
       "3                 NaN  OUTBOUND  user_1652  2019-03-22 14:20:01.513032  \n",
       "4                 ARE  OUTBOUND  user_5509  2019-03-22 05:42:50.316652  "
      ]
     },
     "execution_count": 5,
     "metadata": {},
     "output_type": "execute_result"
    }
   ],
   "source": [
    "transactions.head()"
   ]
  },
  {
   "cell_type": "code",
   "execution_count": 6,
   "metadata": {},
   "outputs": [
    {
     "data": {
      "text/html": [
       "<div>\n",
       "<style scoped>\n",
       "    .dataframe tbody tr th:only-of-type {\n",
       "        vertical-align: middle;\n",
       "    }\n",
       "\n",
       "    .dataframe tbody tr th {\n",
       "        vertical-align: top;\n",
       "    }\n",
       "\n",
       "    .dataframe thead th {\n",
       "        text-align: right;\n",
       "    }\n",
       "</style>\n",
       "<table border=\"1\" class=\"dataframe\">\n",
       "  <thead>\n",
       "    <tr style=\"text-align: right;\">\n",
       "      <th></th>\n",
       "      <th>reason</th>\n",
       "      <th>channel</th>\n",
       "      <th>status</th>\n",
       "      <th>user_id</th>\n",
       "      <th>created_date</th>\n",
       "    </tr>\n",
       "  </thead>\n",
       "  <tbody>\n",
       "    <tr>\n",
       "      <th>0</th>\n",
       "      <td>REENGAGEMENT_ACTIVE_FUNDS</td>\n",
       "      <td>PUSH</td>\n",
       "      <td>SENT</td>\n",
       "      <td>user_7086</td>\n",
       "      <td>2018-12-02 17:58:33.320645</td>\n",
       "    </tr>\n",
       "    <tr>\n",
       "      <th>1</th>\n",
       "      <td>REENGAGEMENT_ACTIVE_FUNDS</td>\n",
       "      <td>PUSH</td>\n",
       "      <td>SENT</td>\n",
       "      <td>user_6598</td>\n",
       "      <td>2018-12-01 23:09:37.367127</td>\n",
       "    </tr>\n",
       "    <tr>\n",
       "      <th>2</th>\n",
       "      <td>REENGAGEMENT_ACTIVE_FUNDS</td>\n",
       "      <td>PUSH</td>\n",
       "      <td>SENT</td>\n",
       "      <td>user_4151</td>\n",
       "      <td>2018-12-04 02:57:56.425660</td>\n",
       "    </tr>\n",
       "    <tr>\n",
       "      <th>3</th>\n",
       "      <td>REENGAGEMENT_ACTIVE_FUNDS</td>\n",
       "      <td>PUSH</td>\n",
       "      <td>SENT</td>\n",
       "      <td>user_1408</td>\n",
       "      <td>2018-12-11 02:04:46.284683</td>\n",
       "    </tr>\n",
       "    <tr>\n",
       "      <th>4</th>\n",
       "      <td>REENGAGEMENT_ACTIVE_FUNDS</td>\n",
       "      <td>PUSH</td>\n",
       "      <td>SENT</td>\n",
       "      <td>user_6292</td>\n",
       "      <td>2018-12-14 17:09:58.900808</td>\n",
       "    </tr>\n",
       "  </tbody>\n",
       "</table>\n",
       "</div>"
      ],
      "text/plain": [
       "                      reason channel status    user_id  \\\n",
       "0  REENGAGEMENT_ACTIVE_FUNDS    PUSH   SENT  user_7086   \n",
       "1  REENGAGEMENT_ACTIVE_FUNDS    PUSH   SENT  user_6598   \n",
       "2  REENGAGEMENT_ACTIVE_FUNDS    PUSH   SENT  user_4151   \n",
       "3  REENGAGEMENT_ACTIVE_FUNDS    PUSH   SENT  user_1408   \n",
       "4  REENGAGEMENT_ACTIVE_FUNDS    PUSH   SENT  user_6292   \n",
       "\n",
       "                 created_date  \n",
       "0  2018-12-02 17:58:33.320645  \n",
       "1  2018-12-01 23:09:37.367127  \n",
       "2  2018-12-04 02:57:56.425660  \n",
       "3  2018-12-11 02:04:46.284683  \n",
       "4  2018-12-14 17:09:58.900808  "
      ]
     },
     "execution_count": 6,
     "metadata": {},
     "output_type": "execute_result"
    }
   ],
   "source": [
    "notifications.head()"
   ]
  },
  {
   "cell_type": "markdown",
   "metadata": {},
   "source": [
    "### Transaction gap"
   ]
  },
  {
   "cell_type": "code",
   "execution_count": 17,
   "metadata": {},
   "outputs": [],
   "source": [
    "tr = transactions[transactions['transactions_state']=='COMPLETED']"
   ]
  },
  {
   "cell_type": "code",
   "execution_count": 18,
   "metadata": {},
   "outputs": [
    {
     "data": {
      "text/html": [
       "<div>\n",
       "<style scoped>\n",
       "    .dataframe tbody tr th:only-of-type {\n",
       "        vertical-align: middle;\n",
       "    }\n",
       "\n",
       "    .dataframe tbody tr th {\n",
       "        vertical-align: top;\n",
       "    }\n",
       "\n",
       "    .dataframe thead th {\n",
       "        text-align: right;\n",
       "    }\n",
       "</style>\n",
       "<table border=\"1\" class=\"dataframe\">\n",
       "  <thead>\n",
       "    <tr style=\"text-align: right;\">\n",
       "      <th></th>\n",
       "      <th>transaction_id</th>\n",
       "      <th>transactions_type</th>\n",
       "      <th>transactions_currency</th>\n",
       "      <th>amount_usd</th>\n",
       "      <th>transactions_state</th>\n",
       "      <th>ea_cardholderpresence</th>\n",
       "      <th>ea_merchant_mcc</th>\n",
       "      <th>ea_merchant_city</th>\n",
       "      <th>ea_merchant_country</th>\n",
       "      <th>direction</th>\n",
       "      <th>user_id</th>\n",
       "      <th>created_date</th>\n",
       "    </tr>\n",
       "  </thead>\n",
       "  <tbody>\n",
       "    <tr>\n",
       "      <th>0</th>\n",
       "      <td>transaction_0</td>\n",
       "      <td>TRANSFER</td>\n",
       "      <td>AED</td>\n",
       "      <td>4.55</td>\n",
       "      <td>COMPLETED</td>\n",
       "      <td>NaN</td>\n",
       "      <td>NaN</td>\n",
       "      <td>NaN</td>\n",
       "      <td>NaN</td>\n",
       "      <td>OUTBOUND</td>\n",
       "      <td>user_898</td>\n",
       "      <td>2018-04-03</td>\n",
       "    </tr>\n",
       "    <tr>\n",
       "      <th>1</th>\n",
       "      <td>transaction_1</td>\n",
       "      <td>CARD_PAYMENT</td>\n",
       "      <td>AED</td>\n",
       "      <td>15.50</td>\n",
       "      <td>COMPLETED</td>\n",
       "      <td>FALSE</td>\n",
       "      <td>4111.0</td>\n",
       "      <td>Dubai</td>\n",
       "      <td>ARE</td>\n",
       "      <td>OUTBOUND</td>\n",
       "      <td>user_1652</td>\n",
       "      <td>2019-03-19</td>\n",
       "    </tr>\n",
       "    <tr>\n",
       "      <th>2</th>\n",
       "      <td>transaction_2</td>\n",
       "      <td>CARD_PAYMENT</td>\n",
       "      <td>AED</td>\n",
       "      <td>43.40</td>\n",
       "      <td>COMPLETED</td>\n",
       "      <td>FALSE</td>\n",
       "      <td>5814.0</td>\n",
       "      <td>Dubai</td>\n",
       "      <td>ARE</td>\n",
       "      <td>OUTBOUND</td>\n",
       "      <td>user_1652</td>\n",
       "      <td>2019-03-18</td>\n",
       "    </tr>\n",
       "    <tr>\n",
       "      <th>3</th>\n",
       "      <td>transaction_3</td>\n",
       "      <td>TRANSFER</td>\n",
       "      <td>AED</td>\n",
       "      <td>10043.01</td>\n",
       "      <td>COMPLETED</td>\n",
       "      <td>NaN</td>\n",
       "      <td>NaN</td>\n",
       "      <td>NaN</td>\n",
       "      <td>NaN</td>\n",
       "      <td>OUTBOUND</td>\n",
       "      <td>user_1652</td>\n",
       "      <td>2019-03-22</td>\n",
       "    </tr>\n",
       "    <tr>\n",
       "      <th>4</th>\n",
       "      <td>transaction_4</td>\n",
       "      <td>CARD_PAYMENT</td>\n",
       "      <td>AED</td>\n",
       "      <td>43.81</td>\n",
       "      <td>COMPLETED</td>\n",
       "      <td>FALSE</td>\n",
       "      <td>5651.0</td>\n",
       "      <td>Abu Dhabi</td>\n",
       "      <td>ARE</td>\n",
       "      <td>OUTBOUND</td>\n",
       "      <td>user_5509</td>\n",
       "      <td>2019-03-22</td>\n",
       "    </tr>\n",
       "  </tbody>\n",
       "</table>\n",
       "</div>"
      ],
      "text/plain": [
       "  transaction_id transactions_type transactions_currency  amount_usd  \\\n",
       "0  transaction_0          TRANSFER                   AED        4.55   \n",
       "1  transaction_1      CARD_PAYMENT                   AED       15.50   \n",
       "2  transaction_2      CARD_PAYMENT                   AED       43.40   \n",
       "3  transaction_3          TRANSFER                   AED    10043.01   \n",
       "4  transaction_4      CARD_PAYMENT                   AED       43.81   \n",
       "\n",
       "  transactions_state ea_cardholderpresence  ea_merchant_mcc ea_merchant_city  \\\n",
       "0          COMPLETED                   NaN              NaN              NaN   \n",
       "1          COMPLETED                 FALSE           4111.0            Dubai   \n",
       "2          COMPLETED                 FALSE           5814.0            Dubai   \n",
       "3          COMPLETED                   NaN              NaN              NaN   \n",
       "4          COMPLETED                 FALSE           5651.0        Abu Dhabi   \n",
       "\n",
       "  ea_merchant_country direction    user_id created_date  \n",
       "0                 NaN  OUTBOUND   user_898   2018-04-03  \n",
       "1                 ARE  OUTBOUND  user_1652   2019-03-19  \n",
       "2                 ARE  OUTBOUND  user_1652   2019-03-18  \n",
       "3                 NaN  OUTBOUND  user_1652   2019-03-22  \n",
       "4                 ARE  OUTBOUND  user_5509   2019-03-22  "
      ]
     },
     "execution_count": 18,
     "metadata": {},
     "output_type": "execute_result"
    }
   ],
   "source": [
    "tr.head()"
   ]
  },
  {
   "cell_type": "markdown",
   "metadata": {},
   "source": [
    "#### Change the name of user create date to avoid conflict with transaction and notification dates"
   ]
  },
  {
   "cell_type": "code",
   "execution_count": 36,
   "metadata": {},
   "outputs": [],
   "source": [
    "users['created_date_user'] = users.created_date\n",
    "del users['created_date']"
   ]
  },
  {
   "cell_type": "markdown",
   "metadata": {},
   "source": [
    "#### Strip out time from date columns for all data files"
   ]
  },
  {
   "cell_type": "code",
   "execution_count": 37,
   "metadata": {},
   "outputs": [],
   "source": [
    "users['created_date_user'] = users['created_date_user'].apply(lambda x: datetime.datetime.strptime(str(x)[0:19], '%Y-%m-%d %H:%M:%S').date())\n"
   ]
  },
  {
   "cell_type": "code",
   "execution_count": 7,
   "metadata": {},
   "outputs": [],
   "source": [
    "notifications['created_date'] = notifications['created_date'].apply(lambda x: datetime.datetime.strptime(str(x)[0:19], '%Y-%m-%d %H:%M:%S').date())\n"
   ]
  },
  {
   "cell_type": "code",
   "execution_count": 8,
   "metadata": {},
   "outputs": [],
   "source": [
    "transactions['created_date'] = transactions['created_date'].apply(lambda x: datetime.datetime.strptime(str(x)[0:19], '%Y-%m-%d %H:%M:%S').date())\n"
   ]
  },
  {
   "cell_type": "code",
   "execution_count": 9,
   "metadata": {},
   "outputs": [
    {
     "data": {
      "text/html": [
       "<div>\n",
       "<style scoped>\n",
       "    .dataframe tbody tr th:only-of-type {\n",
       "        vertical-align: middle;\n",
       "    }\n",
       "\n",
       "    .dataframe tbody tr th {\n",
       "        vertical-align: top;\n",
       "    }\n",
       "\n",
       "    .dataframe thead th {\n",
       "        text-align: right;\n",
       "    }\n",
       "</style>\n",
       "<table border=\"1\" class=\"dataframe\">\n",
       "  <thead>\n",
       "    <tr style=\"text-align: right;\">\n",
       "      <th></th>\n",
       "      <th>transaction_id</th>\n",
       "      <th>transactions_type</th>\n",
       "      <th>transactions_currency</th>\n",
       "      <th>amount_usd</th>\n",
       "      <th>transactions_state</th>\n",
       "      <th>ea_cardholderpresence</th>\n",
       "      <th>ea_merchant_mcc</th>\n",
       "      <th>ea_merchant_city</th>\n",
       "      <th>ea_merchant_country</th>\n",
       "      <th>direction</th>\n",
       "      <th>user_id</th>\n",
       "      <th>created_date</th>\n",
       "    </tr>\n",
       "  </thead>\n",
       "  <tbody>\n",
       "    <tr>\n",
       "      <th>0</th>\n",
       "      <td>transaction_0</td>\n",
       "      <td>TRANSFER</td>\n",
       "      <td>AED</td>\n",
       "      <td>4.55</td>\n",
       "      <td>COMPLETED</td>\n",
       "      <td>NaN</td>\n",
       "      <td>NaN</td>\n",
       "      <td>NaN</td>\n",
       "      <td>NaN</td>\n",
       "      <td>OUTBOUND</td>\n",
       "      <td>user_898</td>\n",
       "      <td>2018-04-03</td>\n",
       "    </tr>\n",
       "    <tr>\n",
       "      <th>1</th>\n",
       "      <td>transaction_1</td>\n",
       "      <td>CARD_PAYMENT</td>\n",
       "      <td>AED</td>\n",
       "      <td>15.50</td>\n",
       "      <td>COMPLETED</td>\n",
       "      <td>FALSE</td>\n",
       "      <td>4111.0</td>\n",
       "      <td>Dubai</td>\n",
       "      <td>ARE</td>\n",
       "      <td>OUTBOUND</td>\n",
       "      <td>user_1652</td>\n",
       "      <td>2019-03-19</td>\n",
       "    </tr>\n",
       "    <tr>\n",
       "      <th>2</th>\n",
       "      <td>transaction_2</td>\n",
       "      <td>CARD_PAYMENT</td>\n",
       "      <td>AED</td>\n",
       "      <td>43.40</td>\n",
       "      <td>COMPLETED</td>\n",
       "      <td>FALSE</td>\n",
       "      <td>5814.0</td>\n",
       "      <td>Dubai</td>\n",
       "      <td>ARE</td>\n",
       "      <td>OUTBOUND</td>\n",
       "      <td>user_1652</td>\n",
       "      <td>2019-03-18</td>\n",
       "    </tr>\n",
       "    <tr>\n",
       "      <th>3</th>\n",
       "      <td>transaction_3</td>\n",
       "      <td>TRANSFER</td>\n",
       "      <td>AED</td>\n",
       "      <td>10043.01</td>\n",
       "      <td>COMPLETED</td>\n",
       "      <td>NaN</td>\n",
       "      <td>NaN</td>\n",
       "      <td>NaN</td>\n",
       "      <td>NaN</td>\n",
       "      <td>OUTBOUND</td>\n",
       "      <td>user_1652</td>\n",
       "      <td>2019-03-22</td>\n",
       "    </tr>\n",
       "    <tr>\n",
       "      <th>4</th>\n",
       "      <td>transaction_4</td>\n",
       "      <td>CARD_PAYMENT</td>\n",
       "      <td>AED</td>\n",
       "      <td>43.81</td>\n",
       "      <td>COMPLETED</td>\n",
       "      <td>FALSE</td>\n",
       "      <td>5651.0</td>\n",
       "      <td>Abu Dhabi</td>\n",
       "      <td>ARE</td>\n",
       "      <td>OUTBOUND</td>\n",
       "      <td>user_5509</td>\n",
       "      <td>2019-03-22</td>\n",
       "    </tr>\n",
       "  </tbody>\n",
       "</table>\n",
       "</div>"
      ],
      "text/plain": [
       "  transaction_id transactions_type transactions_currency  amount_usd  \\\n",
       "0  transaction_0          TRANSFER                   AED        4.55   \n",
       "1  transaction_1      CARD_PAYMENT                   AED       15.50   \n",
       "2  transaction_2      CARD_PAYMENT                   AED       43.40   \n",
       "3  transaction_3          TRANSFER                   AED    10043.01   \n",
       "4  transaction_4      CARD_PAYMENT                   AED       43.81   \n",
       "\n",
       "  transactions_state ea_cardholderpresence  ea_merchant_mcc ea_merchant_city  \\\n",
       "0          COMPLETED                   NaN              NaN              NaN   \n",
       "1          COMPLETED                 FALSE           4111.0            Dubai   \n",
       "2          COMPLETED                 FALSE           5814.0            Dubai   \n",
       "3          COMPLETED                   NaN              NaN              NaN   \n",
       "4          COMPLETED                 FALSE           5651.0        Abu Dhabi   \n",
       "\n",
       "  ea_merchant_country direction    user_id created_date  \n",
       "0                 NaN  OUTBOUND   user_898   2018-04-03  \n",
       "1                 ARE  OUTBOUND  user_1652   2019-03-19  \n",
       "2                 ARE  OUTBOUND  user_1652   2019-03-18  \n",
       "3                 NaN  OUTBOUND  user_1652   2019-03-22  \n",
       "4                 ARE  OUTBOUND  user_5509   2019-03-22  "
      ]
     },
     "execution_count": 9,
     "metadata": {},
     "output_type": "execute_result"
    }
   ],
   "source": [
    "transactions.head()"
   ]
  },
  {
   "cell_type": "markdown",
   "metadata": {},
   "source": [
    "#### Convert to date time object"
   ]
  },
  {
   "cell_type": "code",
   "execution_count": 10,
   "metadata": {},
   "outputs": [],
   "source": [
    "notifications['created_date'] = pd.to_datetime(notifications['created_date'])\n",
    "transactions['created_date'] = pd.to_datetime(transactions['created_date'])"
   ]
  },
  {
   "cell_type": "code",
   "execution_count": 11,
   "metadata": {},
   "outputs": [
    {
     "name": "stdout",
     "output_type": "stream",
     "text": [
      "121813 2740075\n"
     ]
    }
   ],
   "source": [
    "print(len(notifications), len(transactions))"
   ]
  },
  {
   "cell_type": "markdown",
   "metadata": {},
   "source": [
    "#### Keep only those users in transactions whose data exists in notifications"
   ]
  },
  {
   "cell_type": "code",
   "execution_count": 12,
   "metadata": {},
   "outputs": [],
   "source": [
    "uniq_users = list(notifications.user_id.unique())\n",
    "transactions = transactions[transactions.user_id.isin(uniq_users)]"
   ]
  },
  {
   "cell_type": "code",
   "execution_count": 13,
   "metadata": {},
   "outputs": [
    {
     "data": {
      "text/plain": [
       "18953"
      ]
     },
     "execution_count": 13,
     "metadata": {},
     "output_type": "execute_result"
    }
   ],
   "source": [
    "len(uniq_users)"
   ]
  },
  {
   "cell_type": "code",
   "execution_count": 14,
   "metadata": {},
   "outputs": [
    {
     "data": {
      "text/plain": [
       "18337"
      ]
     },
     "execution_count": 14,
     "metadata": {},
     "output_type": "execute_result"
    }
   ],
   "source": [
    "len(transactions.user_id.unique())"
   ]
  },
  {
   "cell_type": "markdown",
   "metadata": {},
   "source": [
    "#### Create month and year columns"
   ]
  },
  {
   "cell_type": "code",
   "execution_count": 15,
   "metadata": {},
   "outputs": [],
   "source": [
    "notifications['year'] = notifications.created_date.apply(lambda x: x.year)\n",
    "notifications['month'] = notifications.created_date.apply(lambda x: x.month)\n",
    "transactions['year'] = transactions.created_date.apply(lambda x: x.year)\n",
    "transactions['month'] = transactions.created_date.apply(lambda x: x.month)"
   ]
  },
  {
   "cell_type": "markdown",
   "metadata": {},
   "source": [
    "#### Filter out 2019 data, April and May"
   ]
  },
  {
   "cell_type": "code",
   "execution_count": 16,
   "metadata": {},
   "outputs": [],
   "source": [
    "notifications = notifications[(notifications.year == 2019) & (notifications.month > 3)]\n",
    "transactions = transactions[(transactions.year == 2019) & (transactions.month > 3)]\n"
   ]
  },
  {
   "cell_type": "code",
   "execution_count": 17,
   "metadata": {},
   "outputs": [
    {
     "name": "stdout",
     "output_type": "stream",
     "text": [
      "3340 434322\n"
     ]
    }
   ],
   "source": [
    "print(len(notifications), len(transactions))"
   ]
  },
  {
   "cell_type": "code",
   "execution_count": 18,
   "metadata": {},
   "outputs": [],
   "source": [
    "uniq_users = list(notifications.user_id.unique())\n",
    "transactions = transactions[transactions.user_id.isin(uniq_users)]"
   ]
  },
  {
   "cell_type": "code",
   "execution_count": 19,
   "metadata": {},
   "outputs": [
    {
     "name": "stdout",
     "output_type": "stream",
     "text": [
      "3340 64942\n"
     ]
    }
   ],
   "source": [
    "print(len(notifications), len(transactions))"
   ]
  },
  {
   "cell_type": "markdown",
   "metadata": {},
   "source": [
    "### Feature Engineering\n",
    "\n",
    "#### Now, we will create some features into the notifications data based on values from transaction data\n",
    "#### Example: trans_1db_not == number of transactions happened 1 day before the notification was sent"
   ]
  },
  {
   "cell_type": "code",
   "execution_count": 21,
   "metadata": {},
   "outputs": [],
   "source": [
    "notifications['trans_1db_not'] = None\n",
    "notifications['trans_3db_not'] = None\n",
    "notifications['trans_7db_not'] = None\n",
    "notifications['trans_15db_not'] = None\n",
    "notifications['trans_30db_not'] = None\n",
    "notifications['trans_45db_not'] = None"
   ]
  },
  {
   "cell_type": "code",
   "execution_count": 22,
   "metadata": {},
   "outputs": [],
   "source": [
    "for uid, dt in zip(notifications.user_id, notifications.created_date):\n",
    "    notifications.loc[(notifications.user_id == uid) & \n",
    "                     (notifications.created_date == dt), 'trans_1db_not'] = transactions[(transactions.user_id == uid) & \n",
    "                                                                                         (transactions.transactions_state == 'COMPLETED')&\n",
    "                                                                                        (transactions.created_date <= dt) & \n",
    "                                                                                        (transactions.created_date > dt- pd.DateOffset(days = 1))]['transaction_id'].count()\n",
    "    \n",
    "    notifications.loc[(notifications.user_id == uid) & \n",
    "                     (notifications.created_date == dt), 'trans_3db_not'] = transactions[(transactions.user_id == uid) & \n",
    "                                                                                         (transactions.transactions_state == 'COMPLETED')&\n",
    "                                                                                        (transactions.created_date <= dt) & \n",
    "                                                                                        (transactions.created_date > dt- pd.DateOffset(days = 3))]['transaction_id'].count()\n",
    "    \n",
    "    notifications.loc[(notifications.user_id == uid) & \n",
    "                     (notifications.created_date == dt), 'trans_7db_not'] = transactions[(transactions.user_id == uid) & \n",
    "                                                                                         (transactions.transactions_state == 'COMPLETED')&\n",
    "                                                                                        (transactions.created_date <= dt) & \n",
    "                                                                                        (transactions.created_date > dt- pd.DateOffset(days = 7))]['transaction_id'].count()\n",
    "    \n",
    "    notifications.loc[(notifications.user_id == uid) & \n",
    "                     (notifications.created_date == dt), 'trans_15db_not'] = transactions[(transactions.user_id == uid) & \n",
    "                                                                                         (transactions.transactions_state == 'COMPLETED')&\n",
    "                                                                                        (transactions.created_date <= dt) & \n",
    "                                                                                        (transactions.created_date > dt- pd.DateOffset(days = 15))]['transaction_id'].count()\n",
    "    \n",
    "    notifications.loc[(notifications.user_id == uid) & \n",
    "                     (notifications.created_date == dt), 'trans_30db_not'] = transactions[(transactions.user_id == uid) & \n",
    "                                                                                         (transactions.transactions_state == 'COMPLETED')&\n",
    "                                                                                        (transactions.created_date <= dt) & \n",
    "                                                                                        (transactions.created_date > dt- pd.DateOffset(days = 30))]['transaction_id'].count()\n",
    "    \n",
    "    notifications.loc[(notifications.user_id == uid) & \n",
    "                     (notifications.created_date == dt), 'trans_45db_not'] = transactions[(transactions.user_id == uid) & \n",
    "                                                                                         (transactions.transactions_state == 'COMPLETED')&\n",
    "                                                                                        (transactions.created_date <= dt) & \n",
    "                                                                                        (transactions.created_date > dt- pd.DateOffset(days = 45))]['transaction_id'].count()"
   ]
  },
  {
   "cell_type": "markdown",
   "metadata": {},
   "source": [
    "#### Let's look at the transaction type cardinal counts and create new features for these categories under different time windows"
   ]
  },
  {
   "cell_type": "code",
   "execution_count": 23,
   "metadata": {},
   "outputs": [
    {
     "data": {
      "text/plain": [
       "CARD_PAYMENT    32400\n",
       "TRANSFER        14225\n",
       "TOPUP            8440\n",
       "EXCHANGE         4133\n",
       "CASHBACK         2881\n",
       "ATM              1983\n",
       "FEE               490\n",
       "CARD_REFUND       302\n",
       "TAX                66\n",
       "REFUND             22\n",
       "Name: transactions_type, dtype: int64"
      ]
     },
     "execution_count": 23,
     "metadata": {},
     "output_type": "execute_result"
    }
   ],
   "source": [
    "transactions.transactions_type.value_counts()"
   ]
  },
  {
   "cell_type": "code",
   "execution_count": 24,
   "metadata": {},
   "outputs": [],
   "source": [
    "notifications['trans_1db_card_pay_not'] = None\n",
    "notifications['trans_3db_card_pay_not'] = None\n",
    "notifications['trans_7db_card_pay_not'] = None\n",
    "notifications['trans_15db_card_pay_not'] = None\n",
    "notifications['trans_30db_card_pay_not'] = None\n",
    "notifications['trans_45db_card_pay_not'] = None\n",
    "\n",
    "notifications['trans_1db_TRANSFER_not'] = None\n",
    "notifications['trans_3db_TRANSFER_not'] = None\n",
    "notifications['trans_7db_TRANSFER_not'] = None\n",
    "notifications['trans_15db_TRANSFER_not'] = None\n",
    "notifications['trans_30db_TRANSFER_not'] = None\n",
    "notifications['trans_45db_TRANSFER_not'] = None\n",
    "\n",
    "notifications['trans_1db_TOPUP_not'] = None\n",
    "notifications['trans_3db_TOPUP_not'] = None\n",
    "notifications['trans_7db_TOPUP_not'] = None\n",
    "notifications['trans_15db_TOPUP_not'] = None\n",
    "notifications['trans_30db_TOPUP_not'] = None\n",
    "notifications['trans_45db_TOPUP_not'] = None\n",
    "\n",
    "notifications['trans_1db_EXCHANGE_not'] = None\n",
    "notifications['trans_3db_EXCHANGE_not'] = None\n",
    "notifications['trans_7db_EXCHANGE_not'] = None\n",
    "notifications['trans_15db_EXCHANGE_not'] = None\n",
    "notifications['trans_30db_EXCHANGE_not'] = None\n",
    "notifications['trans_45db_EXCHANGE_not'] = None\n",
    "\n",
    "notifications['trans_1db_ATM_not'] = None\n",
    "notifications['trans_3db_ATM_not'] = None\n",
    "notifications['trans_7db_ATM_not'] = None\n",
    "notifications['trans_15db_ATM_not'] = None\n",
    "notifications['trans_30db_ATM_not'] = None\n",
    "notifications['trans_45db_ATM_not'] = None\n",
    "\n",
    "notifications['trans_1db_CASHBACK_not'] = None\n",
    "notifications['trans_3db_CASHBACK_not'] = None\n",
    "notifications['trans_7db_CASHBACK_not'] = None\n",
    "notifications['trans_15db_CASHBACK_not'] = None\n",
    "notifications['trans_30db_CASHBACK_not'] = None\n",
    "notifications['trans_45db_CASHBACK_not'] = None\n",
    "\n",
    "notifications['trans_1db_FEE_not'] = None\n",
    "notifications['trans_3db_FEE_not'] = None\n",
    "notifications['trans_7db_FEE_not'] = None\n",
    "notifications['trans_15db_FEE_not'] = None\n",
    "notifications['trans_30db_FEE_not'] = None\n",
    "notifications['trans_45db_FEE_not'] = None\n",
    "\n",
    "notifications['trans_1db_CARD_REFUND_not'] = None\n",
    "notifications['trans_3db_CARD_REFUND_not'] = None\n",
    "notifications['trans_7db_CARD_REFUND_not'] = None\n",
    "notifications['trans_15db_CARD_REFUND_not'] = None\n",
    "notifications['trans_30db_CARD_REFUND_not'] = None\n",
    "notifications['trans_45db_CARD_REFUND_not'] = None\n",
    "\n",
    "notifications['trans_1db_CARD_TAX_not'] = None\n",
    "notifications['trans_3db_CARD_TAX_not'] = None\n",
    "notifications['trans_7db_CARD_TAX_not'] = None\n",
    "notifications['trans_15db_CARD_TAX_not'] = None\n",
    "notifications['trans_30db_CARD_TAX_not'] = None\n",
    "notifications['trans_45db_CARD_TAX_not'] = None"
   ]
  },
  {
   "cell_type": "code",
   "execution_count": 25,
   "metadata": {},
   "outputs": [],
   "source": [
    "for uid, dt in zip(notifications.user_id, notifications.created_date):\n",
    "    notifications.loc[(notifications.user_id == uid) & \n",
    "                     (notifications.created_date == dt), 'trans_1db_card_pay_not'] = transactions[(transactions.user_id == uid) & \n",
    "                                                                                         (transactions.transactions_state == 'COMPLETED')&\n",
    "                                                                                                  (transactions.transactions_type == 'CARD_PAYMENT')&\n",
    "                                                                                        (transactions.created_date <= dt) & \n",
    "                                                                                        (transactions.created_date > dt- pd.DateOffset(days = 1))]['transaction_id'].count()\n",
    "    \n",
    "    notifications.loc[(notifications.user_id == uid) & \n",
    "                     (notifications.created_date == dt), 'trans_3db_card_pay_not'] = transactions[(transactions.user_id == uid) & \n",
    "                                                                                         (transactions.transactions_state == 'COMPLETED')&\n",
    "                                                                                                  (transactions.transactions_type == 'CARD_PAYMENT')&\n",
    "                                                                                        (transactions.created_date <= dt) & \n",
    "                                                                                        (transactions.created_date > dt- pd.DateOffset(days = 3))]['transaction_id'].count()\n",
    "    \n",
    "    notifications.loc[(notifications.user_id == uid) & \n",
    "                     (notifications.created_date == dt), 'trans_7db_card_pay_not'] = transactions[(transactions.user_id == uid) & \n",
    "                                                                                         (transactions.transactions_state == 'COMPLETED')&\n",
    "                                                                                                  (transactions.transactions_type == 'CARD_PAYMENT')&\n",
    "                                                                                        (transactions.created_date <= dt) & \n",
    "                                                                                        (transactions.created_date > dt- pd.DateOffset(days = 7))]['transaction_id'].count()\n",
    "    \n",
    "    notifications.loc[(notifications.user_id == uid) & \n",
    "                     (notifications.created_date == dt), 'trans_15db_card_pay_not'] = transactions[(transactions.user_id == uid) & \n",
    "                                                                                         (transactions.transactions_state == 'COMPLETED')&\n",
    "                                                                                                   (transactions.transactions_type == 'CARD_PAYMENT')&\n",
    "                                                                                        (transactions.created_date <= dt) & \n",
    "                                                                                        (transactions.created_date > dt- pd.DateOffset(days = 15))]['transaction_id'].count()\n",
    "    \n",
    "    notifications.loc[(notifications.user_id == uid) & \n",
    "                     (notifications.created_date == dt), 'trans_30db_card_pay_not'] = transactions[(transactions.user_id == uid) & \n",
    "                                                                                         (transactions.transactions_state == 'COMPLETED')&\n",
    "                                                                                                   (transactions.transactions_type == 'CARD_PAYMENT')&\n",
    "                                                                                        (transactions.created_date <= dt) & \n",
    "                                                                                        (transactions.created_date > dt- pd.DateOffset(days = 30))]['transaction_id'].count()\n",
    "    \n",
    "    notifications.loc[(notifications.user_id == uid) & \n",
    "                     (notifications.created_date == dt), 'trans_45db_card_pay_not'] = transactions[(transactions.user_id == uid) & \n",
    "                                                                                         (transactions.transactions_state == 'COMPLETED')&\n",
    "                                                                                                   (transactions.transactions_type == 'CARD_PAYMENT')&\n",
    "                                                                                        (transactions.created_date <= dt) & \n",
    "                                                                                        (transactions.created_date > dt- pd.DateOffset(days = 45))]['transaction_id'].count()\n",
    "    \n",
    "    \n",
    "    \n",
    "    \n",
    "    notifications.loc[(notifications.user_id == uid) & \n",
    "                     (notifications.created_date == dt), 'trans_1db_TRANSFER_not'] = transactions[(transactions.user_id == uid) & \n",
    "                                                                                         (transactions.transactions_state == 'COMPLETED')&\n",
    "                                                                                                  (transactions.transactions_type == 'TRANSFER')&\n",
    "                                                                                        (transactions.created_date <= dt) & \n",
    "                                                                                        (transactions.created_date > dt- pd.DateOffset(days = 1))]['transaction_id'].count()\n",
    "    \n",
    "    notifications.loc[(notifications.user_id == uid) & \n",
    "                     (notifications.created_date == dt), 'trans_3db_TRANSFER_not'] = transactions[(transactions.user_id == uid) & \n",
    "                                                                                         (transactions.transactions_state == 'COMPLETED')&\n",
    "                                                                                                  (transactions.transactions_type == 'TRANSFER')&\n",
    "                                                                                        (transactions.created_date <= dt) & \n",
    "                                                                                        (transactions.created_date > dt- pd.DateOffset(days = 3))]['transaction_id'].count()\n",
    "    \n",
    "    notifications.loc[(notifications.user_id == uid) & \n",
    "                     (notifications.created_date == dt), 'trans_7db_TRANSFER_not'] = transactions[(transactions.user_id == uid) & \n",
    "                                                                                         (transactions.transactions_state == 'COMPLETED')&\n",
    "                                                                                                  (transactions.transactions_type == 'TRANSFER')&\n",
    "                                                                                        (transactions.created_date <= dt) & \n",
    "                                                                                        (transactions.created_date > dt- pd.DateOffset(days = 7))]['transaction_id'].count()\n",
    "    \n",
    "    notifications.loc[(notifications.user_id == uid) & \n",
    "                     (notifications.created_date == dt), 'trans_15db_TRANSFER_not'] = transactions[(transactions.user_id == uid) & \n",
    "                                                                                         (transactions.transactions_state == 'COMPLETED')&\n",
    "                                                                                                   (transactions.transactions_type == 'TRANSFER')&\n",
    "                                                                                        (transactions.created_date <= dt) & \n",
    "                                                                                        (transactions.created_date > dt- pd.DateOffset(days = 15))]['transaction_id'].count()\n",
    "    \n",
    "    notifications.loc[(notifications.user_id == uid) & \n",
    "                     (notifications.created_date == dt), 'trans_30db_TRANSFER_not'] = transactions[(transactions.user_id == uid) & \n",
    "                                                                                         (transactions.transactions_state == 'COMPLETED')&\n",
    "                                                                                                   (transactions.transactions_type == 'TRANSFER')&\n",
    "                                                                                        (transactions.created_date <= dt) & \n",
    "                                                                                        (transactions.created_date > dt- pd.DateOffset(days = 30))]['transaction_id'].count()\n",
    "    \n",
    "    notifications.loc[(notifications.user_id == uid) & \n",
    "                     (notifications.created_date == dt), 'trans_45db_TRANSFER_not'] = transactions[(transactions.user_id == uid) & \n",
    "                                                                                         (transactions.transactions_state == 'COMPLETED')&\n",
    "                                                                                                   (transactions.transactions_type == 'TRANSFER')&\n",
    "                                                                                        (transactions.created_date <= dt) & \n",
    "                                                                                        (transactions.created_date > dt- pd.DateOffset(days = 45))]['transaction_id'].count()\n",
    "    \n",
    "    \n",
    "    notifications.loc[(notifications.user_id == uid) & \n",
    "                     (notifications.created_date == dt), 'trans_1db_TOPUP_not'] = transactions[(transactions.user_id == uid) & \n",
    "                                                                                         (transactions.transactions_state == 'COMPLETED')&\n",
    "                                                                                                  (transactions.transactions_type == 'TOPUP')&\n",
    "                                                                                        (transactions.created_date <= dt) & \n",
    "                                                                                        (transactions.created_date > dt- pd.DateOffset(days = 1))]['transaction_id'].count()\n",
    "    \n",
    "    notifications.loc[(notifications.user_id == uid) & \n",
    "                     (notifications.created_date == dt), 'trans_3db_TOPUP_not'] = transactions[(transactions.user_id == uid) & \n",
    "                                                                                         (transactions.transactions_state == 'COMPLETED')&\n",
    "                                                                                                  (transactions.transactions_type == 'TOPUP')&\n",
    "                                                                                        (transactions.created_date <= dt) & \n",
    "                                                                                        (transactions.created_date > dt- pd.DateOffset(days = 3))]['transaction_id'].count()\n",
    "    \n",
    "    notifications.loc[(notifications.user_id == uid) & \n",
    "                     (notifications.created_date == dt), 'trans_7db_TOPUP_not'] = transactions[(transactions.user_id == uid) & \n",
    "                                                                                         (transactions.transactions_state == 'COMPLETED')&\n",
    "                                                                                                  (transactions.transactions_type == 'TOPUP')&\n",
    "                                                                                        (transactions.created_date <= dt) & \n",
    "                                                                                        (transactions.created_date > dt- pd.DateOffset(days = 7))]['transaction_id'].count()\n",
    "    \n",
    "    notifications.loc[(notifications.user_id == uid) & \n",
    "                     (notifications.created_date == dt), 'trans_15db_TOPUP_not'] = transactions[(transactions.user_id == uid) & \n",
    "                                                                                         (transactions.transactions_state == 'COMPLETED')&\n",
    "                                                                                                   (transactions.transactions_type == 'TOPUP')&\n",
    "                                                                                        (transactions.created_date <= dt) & \n",
    "                                                                                        (transactions.created_date > dt- pd.DateOffset(days = 15))]['transaction_id'].count()\n",
    "    \n",
    "    notifications.loc[(notifications.user_id == uid) & \n",
    "                     (notifications.created_date == dt), 'trans_30db_TOPUP_not'] = transactions[(transactions.user_id == uid) & \n",
    "                                                                                         (transactions.transactions_state == 'COMPLETED')&\n",
    "                                                                                                   (transactions.transactions_type == 'TOPUP')&\n",
    "                                                                                        (transactions.created_date <= dt) & \n",
    "                                                                                        (transactions.created_date > dt- pd.DateOffset(days = 30))]['transaction_id'].count()\n",
    "    \n",
    "    notifications.loc[(notifications.user_id == uid) & \n",
    "                     (notifications.created_date == dt), 'trans_45db_TOPUP_not'] = transactions[(transactions.user_id == uid) & \n",
    "                                                                                         (transactions.transactions_state == 'COMPLETED')&\n",
    "                                                                                                   (transactions.transactions_type == 'TOPUP')&\n",
    "                                                                                        (transactions.created_date <= dt) & \n",
    "                                                                                        (transactions.created_date > dt- pd.DateOffset(days = 45))]['transaction_id'].count()\n",
    "    \n",
    "    \n",
    "    notifications.loc[(notifications.user_id == uid) & \n",
    "                     (notifications.created_date == dt), 'trans_1db_EXCHANGE_not'] = transactions[(transactions.user_id == uid) & \n",
    "                                                                                         (transactions.transactions_state == 'COMPLETED')&\n",
    "                                                                                                  (transactions.transactions_type == 'EXCHANGE')&\n",
    "                                                                                        (transactions.created_date <= dt) & \n",
    "                                                                                        (transactions.created_date > dt- pd.DateOffset(days = 1))]['transaction_id'].count()\n",
    "    \n",
    "    notifications.loc[(notifications.user_id == uid) & \n",
    "                     (notifications.created_date == dt), 'trans_3db_EXCHANGE_not'] = transactions[(transactions.user_id == uid) & \n",
    "                                                                                         (transactions.transactions_state == 'COMPLETED')&\n",
    "                                                                                                  (transactions.transactions_type == 'EXCHANGE')&\n",
    "                                                                                        (transactions.created_date <= dt) & \n",
    "                                                                                        (transactions.created_date > dt- pd.DateOffset(days = 3))]['transaction_id'].count()\n",
    "    \n",
    "    notifications.loc[(notifications.user_id == uid) & \n",
    "                     (notifications.created_date == dt), 'trans_7db_EXCHANGE_not'] = transactions[(transactions.user_id == uid) & \n",
    "                                                                                         (transactions.transactions_state == 'COMPLETED')&\n",
    "                                                                                                  (transactions.transactions_type == 'EXCHANGE')&\n",
    "                                                                                        (transactions.created_date <= dt) & \n",
    "                                                                                        (transactions.created_date > dt- pd.DateOffset(days = 7))]['transaction_id'].count()\n",
    "    \n",
    "    notifications.loc[(notifications.user_id == uid) & \n",
    "                     (notifications.created_date == dt), 'trans_15db_EXCHANGE_not'] = transactions[(transactions.user_id == uid) & \n",
    "                                                                                         (transactions.transactions_state == 'COMPLETED')&\n",
    "                                                                                                   (transactions.transactions_type == 'EXCHANGE')&\n",
    "                                                                                        (transactions.created_date <= dt) & \n",
    "                                                                                        (transactions.created_date > dt- pd.DateOffset(days = 15))]['transaction_id'].count()\n",
    "    \n",
    "    notifications.loc[(notifications.user_id == uid) & \n",
    "                     (notifications.created_date == dt), 'trans_30db_EXCHANGE_not'] = transactions[(transactions.user_id == uid) & \n",
    "                                                                                         (transactions.transactions_state == 'COMPLETED')&\n",
    "                                                                                                   (transactions.transactions_type == 'EXCHANGE')&\n",
    "                                                                                        (transactions.created_date <= dt) & \n",
    "                                                                                        (transactions.created_date > dt- pd.DateOffset(days = 30))]['transaction_id'].count()\n",
    "    \n",
    "    notifications.loc[(notifications.user_id == uid) & \n",
    "                     (notifications.created_date == dt), 'trans_45db_EXCHANGE_not'] = transactions[(transactions.user_id == uid) & \n",
    "                                                                                         (transactions.transactions_state == 'COMPLETED')&\n",
    "                                                                                                   (transactions.transactions_type == 'EXCHANGE')&\n",
    "                                                                                        (transactions.created_date <= dt) & \n",
    "                                                                                        (transactions.created_date > dt- pd.DateOffset(days = 45))]['transaction_id'].count()\n",
    "    \n",
    "    notifications.loc[(notifications.user_id == uid) & \n",
    "                     (notifications.created_date == dt), 'trans_1db_ATM_not'] = transactions[(transactions.user_id == uid) & \n",
    "                                                                                         (transactions.transactions_state == 'COMPLETED')&\n",
    "                                                                                                  (transactions.transactions_type == 'ATM')&\n",
    "                                                                                        (transactions.created_date <= dt) & \n",
    "                                                                                        (transactions.created_date > dt- pd.DateOffset(days = 1))]['transaction_id'].count()\n",
    "    \n",
    "    notifications.loc[(notifications.user_id == uid) & \n",
    "                     (notifications.created_date == dt), 'trans_3db_ATM_not'] = transactions[(transactions.user_id == uid) & \n",
    "                                                                                         (transactions.transactions_state == 'COMPLETED')&\n",
    "                                                                                                  (transactions.transactions_type == 'ATM')&\n",
    "                                                                                        (transactions.created_date <= dt) & \n",
    "                                                                                        (transactions.created_date > dt- pd.DateOffset(days = 3))]['transaction_id'].count()\n",
    "    \n",
    "    notifications.loc[(notifications.user_id == uid) & \n",
    "                     (notifications.created_date == dt), 'trans_7db_ATM_not'] = transactions[(transactions.user_id == uid) & \n",
    "                                                                                         (transactions.transactions_state == 'COMPLETED')&\n",
    "                                                                                                  (transactions.transactions_type == 'ATM')&\n",
    "                                                                                        (transactions.created_date <= dt) & \n",
    "                                                                                        (transactions.created_date > dt- pd.DateOffset(days = 7))]['transaction_id'].count()\n",
    "    \n",
    "    notifications.loc[(notifications.user_id == uid) & \n",
    "                     (notifications.created_date == dt), 'trans_15db_ATM_not'] = transactions[(transactions.user_id == uid) & \n",
    "                                                                                         (transactions.transactions_state == 'COMPLETED')&\n",
    "                                                                                                   (transactions.transactions_type == 'ATM')&\n",
    "                                                                                        (transactions.created_date <= dt) & \n",
    "                                                                                        (transactions.created_date > dt- pd.DateOffset(days = 15))]['transaction_id'].count()\n",
    "    \n",
    "    notifications.loc[(notifications.user_id == uid) & \n",
    "                     (notifications.created_date == dt), 'trans_30db_ATM_not'] = transactions[(transactions.user_id == uid) & \n",
    "                                                                                         (transactions.transactions_state == 'COMPLETED')&\n",
    "                                                                                                   (transactions.transactions_type == 'ATM')&\n",
    "                                                                                        (transactions.created_date <= dt) & \n",
    "                                                                                        (transactions.created_date > dt- pd.DateOffset(days = 30))]['transaction_id'].count()\n",
    "    \n",
    "    notifications.loc[(notifications.user_id == uid) & \n",
    "                     (notifications.created_date == dt), 'trans_45db_ATM_not'] = transactions[(transactions.user_id == uid) & \n",
    "                                                                                         (transactions.transactions_state == 'COMPLETED')&\n",
    "                                                                                                   (transactions.transactions_type == 'ATM')&\n",
    "                                                                                        (transactions.created_date <= dt) & \n",
    "                                                                                        (transactions.created_date > dt- pd.DateOffset(days = 45))]['transaction_id'].count()\n",
    "    \n",
    "    \n",
    "    \n",
    "    notifications.loc[(notifications.user_id == uid) & \n",
    "                     (notifications.created_date == dt), 'trans_1db_CASHBACK_not'] = transactions[(transactions.user_id == uid) & \n",
    "                                                                                         (transactions.transactions_state == 'COMPLETED')&\n",
    "                                                                                                  (transactions.transactions_type == 'CASHBACK')&\n",
    "                                                                                        (transactions.created_date <= dt) & \n",
    "                                                                                        (transactions.created_date > dt- pd.DateOffset(days = 1))]['transaction_id'].count()\n",
    "    \n",
    "    notifications.loc[(notifications.user_id == uid) & \n",
    "                     (notifications.created_date == dt), 'trans_3db_CASHBACK_not'] = transactions[(transactions.user_id == uid) & \n",
    "                                                                                         (transactions.transactions_state == 'COMPLETED')&\n",
    "                                                                                                  (transactions.transactions_type == 'CASHBACK')&\n",
    "                                                                                        (transactions.created_date <= dt) & \n",
    "                                                                                        (transactions.created_date > dt- pd.DateOffset(days = 3))]['transaction_id'].count()\n",
    "    \n",
    "    notifications.loc[(notifications.user_id == uid) & \n",
    "                     (notifications.created_date == dt), 'trans_7db_CASHBACK_not'] = transactions[(transactions.user_id == uid) & \n",
    "                                                                                         (transactions.transactions_state == 'COMPLETED')&\n",
    "                                                                                                  (transactions.transactions_type == 'CASHBACK')&\n",
    "                                                                                        (transactions.created_date <= dt) & \n",
    "                                                                                        (transactions.created_date > dt- pd.DateOffset(days = 7))]['transaction_id'].count()\n",
    "    \n",
    "    notifications.loc[(notifications.user_id == uid) & \n",
    "                     (notifications.created_date == dt), 'trans_15db_CASHBACK_not'] = transactions[(transactions.user_id == uid) & \n",
    "                                                                                         (transactions.transactions_state == 'COMPLETED')&\n",
    "                                                                                                   (transactions.transactions_type == 'CASHBACK')&\n",
    "                                                                                        (transactions.created_date <= dt) & \n",
    "                                                                                        (transactions.created_date > dt- pd.DateOffset(days = 15))]['transaction_id'].count()\n",
    "    \n",
    "    notifications.loc[(notifications.user_id == uid) & \n",
    "                     (notifications.created_date == dt), 'trans_30db_CASHBACK_not'] = transactions[(transactions.user_id == uid) & \n",
    "                                                                                         (transactions.transactions_state == 'COMPLETED')&\n",
    "                                                                                                   (transactions.transactions_type == 'CASHBACK')&\n",
    "                                                                                        (transactions.created_date <= dt) & \n",
    "                                                                                        (transactions.created_date > dt- pd.DateOffset(days = 30))]['transaction_id'].count()\n",
    "    \n",
    "    notifications.loc[(notifications.user_id == uid) & \n",
    "                     (notifications.created_date == dt), 'trans_45db_CASHBACK_not'] = transactions[(transactions.user_id == uid) & \n",
    "                                                                                         (transactions.transactions_state == 'COMPLETED')&\n",
    "                                                                                                   (transactions.transactions_type == 'CASHBACK')&\n",
    "                                                                                        (transactions.created_date <= dt) & \n",
    "                                                                                        (transactions.created_date > dt- pd.DateOffset(days = 45))]['transaction_id'].count()\n",
    "    \n",
    "    \n",
    "    notifications.loc[(notifications.user_id == uid) & \n",
    "                     (notifications.created_date == dt), 'trans_1db_FEE_not'] = transactions[(transactions.user_id == uid) & \n",
    "                                                                                         (transactions.transactions_state == 'COMPLETED')&\n",
    "                                                                                                  (transactions.transactions_type == 'FEE')&\n",
    "                                                                                        (transactions.created_date <= dt) & \n",
    "                                                                                        (transactions.created_date > dt- pd.DateOffset(days = 1))]['transaction_id'].count()\n",
    "    \n",
    "    notifications.loc[(notifications.user_id == uid) & \n",
    "                     (notifications.created_date == dt), 'trans_3db_FEE_not'] = transactions[(transactions.user_id == uid) & \n",
    "                                                                                         (transactions.transactions_state == 'COMPLETED')&\n",
    "                                                                                                  (transactions.transactions_type == 'FEE')&\n",
    "                                                                                        (transactions.created_date <= dt) & \n",
    "                                                                                        (transactions.created_date > dt- pd.DateOffset(days = 3))]['transaction_id'].count()\n",
    "    \n",
    "    notifications.loc[(notifications.user_id == uid) & \n",
    "                     (notifications.created_date == dt), 'trans_7db_FEE_not'] = transactions[(transactions.user_id == uid) & \n",
    "                                                                                         (transactions.transactions_state == 'COMPLETED')&\n",
    "                                                                                                  (transactions.transactions_type == 'FEE')&\n",
    "                                                                                        (transactions.created_date <= dt) & \n",
    "                                                                                        (transactions.created_date > dt- pd.DateOffset(days = 7))]['transaction_id'].count()\n",
    "    \n",
    "    notifications.loc[(notifications.user_id == uid) & \n",
    "                     (notifications.created_date == dt), 'trans_15db_FEE_not'] = transactions[(transactions.user_id == uid) & \n",
    "                                                                                         (transactions.transactions_state == 'COMPLETED')&\n",
    "                                                                                                   (transactions.transactions_type == 'FEE')&\n",
    "                                                                                        (transactions.created_date <= dt) & \n",
    "                                                                                        (transactions.created_date > dt- pd.DateOffset(days = 15))]['transaction_id'].count()\n",
    "    \n",
    "    notifications.loc[(notifications.user_id == uid) & \n",
    "                     (notifications.created_date == dt), 'trans_30db_FEE_not'] = transactions[(transactions.user_id == uid) & \n",
    "                                                                                         (transactions.transactions_state == 'COMPLETED')&\n",
    "                                                                                                   (transactions.transactions_type == 'FEE')&\n",
    "                                                                                        (transactions.created_date <= dt) & \n",
    "                                                                                        (transactions.created_date > dt- pd.DateOffset(days = 30))]['transaction_id'].count()\n",
    "    \n",
    "    notifications.loc[(notifications.user_id == uid) & \n",
    "                     (notifications.created_date == dt), 'trans_45db_FEE_not'] = transactions[(transactions.user_id == uid) & \n",
    "                                                                                         (transactions.transactions_state == 'COMPLETED')&\n",
    "                                                                                                   (transactions.transactions_type == 'FEE')&\n",
    "                                                                                        (transactions.created_date <= dt) & \n",
    "                                                                                        (transactions.created_date > dt- pd.DateOffset(days = 45))]['transaction_id'].count()\n",
    "    \n",
    "    notifications.loc[(notifications.user_id == uid) & \n",
    "                     (notifications.created_date == dt), 'trans_1db_CARD_REFUND_not'] = transactions[(transactions.user_id == uid) & \n",
    "                                                                                         (transactions.transactions_state == 'COMPLETED')&\n",
    "                                                                                                  (transactions.transactions_type == 'CARD_REFUND')&\n",
    "                                                                                        (transactions.created_date <= dt) & \n",
    "                                                                                        (transactions.created_date > dt- pd.DateOffset(days = 1))]['transaction_id'].count()\n",
    "    \n",
    "    notifications.loc[(notifications.user_id == uid) & \n",
    "                     (notifications.created_date == dt), 'trans_3db_CARD_REFUND_not'] = transactions[(transactions.user_id == uid) & \n",
    "                                                                                         (transactions.transactions_state == 'COMPLETED')&\n",
    "                                                                                                  (transactions.transactions_type == 'CARD_REFUND')&\n",
    "                                                                                        (transactions.created_date <= dt) & \n",
    "                                                                                        (transactions.created_date > dt- pd.DateOffset(days = 3))]['transaction_id'].count()\n",
    "    \n",
    "    notifications.loc[(notifications.user_id == uid) & \n",
    "                     (notifications.created_date == dt), 'trans_7db_CARD_REFUND_not'] = transactions[(transactions.user_id == uid) & \n",
    "                                                                                         (transactions.transactions_state == 'COMPLETED')&\n",
    "                                                                                                  (transactions.transactions_type == 'CARD_REFUND')&\n",
    "                                                                                        (transactions.created_date <= dt) & \n",
    "                                                                                        (transactions.created_date > dt- pd.DateOffset(days = 7))]['transaction_id'].count()\n",
    "    \n",
    "    notifications.loc[(notifications.user_id == uid) & \n",
    "                     (notifications.created_date == dt), 'trans_15db_CARD_REFUND_not'] = transactions[(transactions.user_id == uid) & \n",
    "                                                                                         (transactions.transactions_state == 'COMPLETED')&\n",
    "                                                                                                   (transactions.transactions_type == 'CARD_REFUND')&\n",
    "                                                                                        (transactions.created_date <= dt) & \n",
    "                                                                                        (transactions.created_date > dt- pd.DateOffset(days = 15))]['transaction_id'].count()\n",
    "    \n",
    "    notifications.loc[(notifications.user_id == uid) & \n",
    "                     (notifications.created_date == dt), 'trans_30db_CARD_REFUND_not'] = transactions[(transactions.user_id == uid) & \n",
    "                                                                                         (transactions.transactions_state == 'COMPLETED')&\n",
    "                                                                                                   (transactions.transactions_type == 'CARD_REFUND')&\n",
    "                                                                                        (transactions.created_date <= dt) & \n",
    "                                                                                        (transactions.created_date > dt- pd.DateOffset(days = 30))]['transaction_id'].count()\n",
    "    \n",
    "    notifications.loc[(notifications.user_id == uid) & \n",
    "                     (notifications.created_date == dt), 'trans_45db_CARD_REFUND_not'] = transactions[(transactions.user_id == uid) & \n",
    "                                                                                         (transactions.transactions_state == 'COMPLETED')&\n",
    "                                                                                                   (transactions.transactions_type == 'CARD_REFUND')&\n",
    "                                                                                        (transactions.created_date <= dt) & \n",
    "                                                                                        (transactions.created_date > dt- pd.DateOffset(days = 45))]['transaction_id'].count()\n",
    "    \n",
    "    notifications.loc[(notifications.user_id == uid) & \n",
    "                     (notifications.created_date == dt), 'trans_1db_CARD_TAX_not'] = transactions[(transactions.user_id == uid) & \n",
    "                                                                                         (transactions.transactions_state == 'COMPLETED')&\n",
    "                                                                                                  (transactions.transactions_type == 'CARD_TAX')&\n",
    "                                                                                        (transactions.created_date <= dt) & \n",
    "                                                                                        (transactions.created_date > dt- pd.DateOffset(days = 1))]['transaction_id'].count()\n",
    "    \n",
    "    notifications.loc[(notifications.user_id == uid) & \n",
    "                     (notifications.created_date == dt), 'trans_3db_CARD_TAX_not'] = transactions[(transactions.user_id == uid) & \n",
    "                                                                                         (transactions.transactions_state == 'COMPLETED')&\n",
    "                                                                                                  (transactions.transactions_type == 'CARD_TAX')&\n",
    "                                                                                        (transactions.created_date <= dt) & \n",
    "                                                                                        (transactions.created_date > dt- pd.DateOffset(days = 3))]['transaction_id'].count()\n",
    "    \n",
    "    notifications.loc[(notifications.user_id == uid) & \n",
    "                     (notifications.created_date == dt), 'trans_7db_CARD_TAX_not'] = transactions[(transactions.user_id == uid) & \n",
    "                                                                                         (transactions.transactions_state == 'COMPLETED')&\n",
    "                                                                                                  (transactions.transactions_type == 'CARD_TAX')&\n",
    "                                                                                        (transactions.created_date <= dt) & \n",
    "                                                                                        (transactions.created_date > dt- pd.DateOffset(days = 7))]['transaction_id'].count()\n",
    "    \n",
    "    notifications.loc[(notifications.user_id == uid) & \n",
    "                     (notifications.created_date == dt), 'trans_15db_CARD_TAX_not'] = transactions[(transactions.user_id == uid) & \n",
    "                                                                                         (transactions.transactions_state == 'COMPLETED')&\n",
    "                                                                                                   (transactions.transactions_type == 'CARD_TAX')&\n",
    "                                                                                        (transactions.created_date <= dt) & \n",
    "                                                                                        (transactions.created_date > dt- pd.DateOffset(days = 15))]['transaction_id'].count()\n",
    "    \n",
    "    notifications.loc[(notifications.user_id == uid) & \n",
    "                     (notifications.created_date == dt), 'trans_30db_CARD_TAX_not'] = transactions[(transactions.user_id == uid) & \n",
    "                                                                                         (transactions.transactions_state == 'COMPLETED')&\n",
    "                                                                                                   (transactions.transactions_type == 'CARD_TAX')&\n",
    "                                                                                        (transactions.created_date <= dt) & \n",
    "                                                                                        (transactions.created_date > dt- pd.DateOffset(days = 30))]['transaction_id'].count()\n",
    "    \n",
    "    notifications.loc[(notifications.user_id == uid) & \n",
    "                     (notifications.created_date == dt), 'trans_45db_CARD_TAX_not'] = transactions[(transactions.user_id == uid) & \n",
    "                                                                                         (transactions.transactions_state == 'COMPLETED')&\n",
    "                                                                                                   (transactions.transactions_type == 'CARD_TAX')&\n",
    "                                                                                        (transactions.created_date <= dt) & \n",
    "                                                                                        (transactions.created_date > dt- pd.DateOffset(days = 45))]['transaction_id'].count()\n",
    "    \n",
    "    \n"
   ]
  },
  {
   "cell_type": "code",
   "execution_count": 26,
   "metadata": {},
   "outputs": [],
   "source": [
    "notifications.to_csv('/Users/nisha/Desktop/notifications.csv')"
   ]
  },
  {
   "cell_type": "markdown",
   "metadata": {},
   "source": [
    "#### Also, lets create another feature which is sum of transaction amount for 5 & 10 number of days before the notification was sent"
   ]
  },
  {
   "cell_type": "code",
   "execution_count": 27,
   "metadata": {},
   "outputs": [],
   "source": [
    "notifications['trans_5db_transaction_amt_sum'] = None\n",
    "notifications['trans_10db_transaction_amt_sum'] = None\n",
    "for uid, dt in zip(notifications.user_id, notifications.created_date):\n",
    "    notifications.loc[(notifications.user_id == uid) & \n",
    "                     (notifications.created_date == dt), 'trans_5db_transaction_amt_sum'] = transactions[(transactions.user_id == uid) & \n",
    "                                                                                         (transactions.transactions_state == 'COMPLETED')&\n",
    "                                                                                                \n",
    "                                                                                        (transactions.created_date <= dt) & \n",
    "                                                                                        (transactions.created_date > dt- pd.DateOffset(days = 5))]['amount_usd'].sum()\n",
    " \n",
    "    notifications.loc[(notifications.user_id == uid) & \n",
    "                     (notifications.created_date == dt), 'trans_10db_transaction_amt_sum'] = transactions[(transactions.user_id == uid) & \n",
    "                                                                                         (transactions.transactions_state == 'COMPLETED')&\n",
    "                                                                                                \n",
    "                                                                                        (transactions.created_date <= dt) & \n",
    "                                                                                        (transactions.created_date > dt- pd.DateOffset(days = 10))]['amount_usd'].sum()\n",
    " "
   ]
  },
  {
   "cell_type": "markdown",
   "metadata": {},
   "source": [
    "#### Let's add features from transactions states (outbound/inbound) as well"
   ]
  },
  {
   "cell_type": "code",
   "execution_count": 28,
   "metadata": {},
   "outputs": [],
   "source": [
    "notifications['trans_5db_Outbound'] = None\n",
    "notifications['trans_10db_Outbound'] = None\n",
    "notifications['trans_5db_Inbound'] = None\n",
    "notifications['trans_10db_Inbound'] = None\n",
    "for uid, dt in zip(notifications.user_id, notifications.created_date):\n",
    "    notifications.loc[(notifications.user_id == uid) & \n",
    "                     (notifications.created_date == dt), 'trans_5db_Outbound'] = transactions[(transactions.user_id == uid) & \n",
    "                                                                                         (transactions.transactions_state == 'COMPLETED')&\n",
    "                                                                                              (transactions.direction == 'OUTBOUND')&\n",
    "                                                                                                \n",
    "                                                                                        (transactions.created_date <= dt) & \n",
    "                                                                                        (transactions.created_date > dt- pd.DateOffset(days = 5))]['transaction_id'].count()\n",
    " \n",
    "    notifications.loc[(notifications.user_id == uid) & \n",
    "                     (notifications.created_date == dt), 'trans_5db_Inbound'] = transactions[(transactions.user_id == uid) & \n",
    "                                                                                         (transactions.transactions_state == 'COMPLETED')&\n",
    "                                                                                             (transactions.direction == 'INBOUND')&\n",
    "                                                                                                \n",
    "                                                                                        (transactions.created_date <= dt) & \n",
    "                                                                                        (transactions.created_date > dt- pd.DateOffset(days = 5))]['transaction_id'].count()\n",
    " \n",
    "\n",
    "    notifications.loc[(notifications.user_id == uid) & \n",
    "                     (notifications.created_date == dt), 'trans_10db_Outbound'] = transactions[(transactions.user_id == uid) & \n",
    "                                                                                         (transactions.transactions_state == 'COMPLETED')&\n",
    "                                                                                               (transactions.direction == 'OUTBOUND')&\n",
    "                                                                                                \n",
    "                                                                                        (transactions.created_date <= dt) & \n",
    "                                                                                        (transactions.created_date > dt- pd.DateOffset(days = 10))]['transaction_id'].count()\n",
    " \n",
    "    notifications.loc[(notifications.user_id == uid) & \n",
    "                     (notifications.created_date == dt), 'trans_10db_Inbound'] = transactions[(transactions.user_id == uid) & \n",
    "                                                                                         (transactions.transactions_state == 'COMPLETED')&\n",
    "                                                                                              (transactions.direction == 'INBOUND')&\n",
    "                                                                                                \n",
    "                                                                                        (transactions.created_date <= dt) & \n",
    "                                                                                        (transactions.created_date > dt- pd.DateOffset(days = 10))]['transaction_id'].count()\n",
    " "
   ]
  },
  {
   "cell_type": "code",
   "execution_count": 38,
   "metadata": {},
   "outputs": [],
   "source": [
    "notifications.to_csv('/Users/nisha/Desktop/notifications.csv')"
   ]
  },
  {
   "cell_type": "markdown",
   "metadata": {},
   "source": [
    "#### Now, we will merge the notification data with devices datasets, left outer merge on user id's"
   ]
  },
  {
   "cell_type": "code",
   "execution_count": 39,
   "metadata": {},
   "outputs": [],
   "source": [
    "merge_1 = pd.merge(notifications, devices, on='user_id', how='left')"
   ]
  },
  {
   "cell_type": "markdown",
   "metadata": {},
   "source": [
    "#### And another merge with the Users data"
   ]
  },
  {
   "cell_type": "code",
   "execution_count": 40,
   "metadata": {},
   "outputs": [],
   "source": [
    "merge_2 = pd.merge(merge_1, users, on='user_id', how='left')"
   ]
  },
  {
   "cell_type": "code",
   "execution_count": 41,
   "metadata": {},
   "outputs": [
    {
     "data": {
      "text/plain": [
       "Index(['reason', 'channel', 'status', 'user_id', 'created_date', 'year',\n",
       "       'month', 'trans_1db_not', 'trans_3db_not', 'trans_7db_not',\n",
       "       'trans_15db_not', 'trans_30db_not', 'trans_45db_not',\n",
       "       'trans_1db_card_pay_not', 'trans_3db_card_pay_not',\n",
       "       'trans_7db_card_pay_not', 'trans_15db_card_pay_not',\n",
       "       'trans_30db_card_pay_not', 'trans_45db_card_pay_not',\n",
       "       'trans_1db_TRANSFER_not', 'trans_3db_TRANSFER_not',\n",
       "       'trans_7db_TRANSFER_not', 'trans_15db_TRANSFER_not',\n",
       "       'trans_30db_TRANSFER_not', 'trans_45db_TRANSFER_not',\n",
       "       'trans_1db_TOPUP_not', 'trans_3db_TOPUP_not', 'trans_7db_TOPUP_not',\n",
       "       'trans_15db_TOPUP_not', 'trans_30db_TOPUP_not', 'trans_45db_TOPUP_not',\n",
       "       'trans_1db_EXCHANGE_not', 'trans_3db_EXCHANGE_not',\n",
       "       'trans_7db_EXCHANGE_not', 'trans_15db_EXCHANGE_not',\n",
       "       'trans_30db_EXCHANGE_not', 'trans_45db_EXCHANGE_not',\n",
       "       'trans_1db_ATM_not', 'trans_3db_ATM_not', 'trans_7db_ATM_not',\n",
       "       'trans_15db_ATM_not', 'trans_30db_ATM_not', 'trans_45db_ATM_not',\n",
       "       'trans_1db_CASHBACK_not', 'trans_3db_CASHBACK_not',\n",
       "       'trans_7db_CASHBACK_not', 'trans_15db_CASHBACK_not',\n",
       "       'trans_30db_CASHBACK_not', 'trans_45db_CASHBACK_not',\n",
       "       'trans_1db_FEE_not', 'trans_3db_FEE_not', 'trans_7db_FEE_not',\n",
       "       'trans_15db_FEE_not', 'trans_30db_FEE_not', 'trans_45db_FEE_not',\n",
       "       'trans_1db_CARD_REFUND_not', 'trans_3db_CARD_REFUND_not',\n",
       "       'trans_7db_CARD_REFUND_not', 'trans_15db_CARD_REFUND_not',\n",
       "       'trans_30db_CARD_REFUND_not', 'trans_45db_CARD_REFUND_not',\n",
       "       'trans_1db_CARD_TAX_not', 'trans_3db_CARD_TAX_not',\n",
       "       'trans_7db_CARD_TAX_not', 'trans_15db_CARD_TAX_not',\n",
       "       'trans_30db_CARD_TAX_not', 'trans_45db_CARD_TAX_not',\n",
       "       'trans_5db_transaction_amt_sum', 'trans_10db_transaction_amt_sum',\n",
       "       'trans_5db_Outbound', 'trans_10db_Outbound', 'trans_5db_Inbound',\n",
       "       'trans_10db_Inbound', 'brand', 'birth_year', 'country', 'city',\n",
       "       'user_settings_crypto_unlocked', 'plan',\n",
       "       'attributes_notifications_marketing_push',\n",
       "       'attributes_notifications_marketing_email', 'num_contacts',\n",
       "       'num_referrals', 'num_successful_referrals', 'created_date_user'],\n",
       "      dtype='object')"
      ]
     },
     "execution_count": 41,
     "metadata": {},
     "output_type": "execute_result"
    }
   ],
   "source": [
    "merge_2.columns"
   ]
  },
  {
   "cell_type": "markdown",
   "metadata": {},
   "source": [
    "#### Let's calculate the number of days since onboard for users"
   ]
  },
  {
   "cell_type": "code",
   "execution_count": 42,
   "metadata": {},
   "outputs": [],
   "source": [
    "merge_2['created_date_user'] = pd.to_datetime(merge_2['created_date_user'])\n",
    "merge_2['days_since_onboard'] = (merge_2['created_date'] - merge_2['created_date_user']).dt.days"
   ]
  },
  {
   "cell_type": "code",
   "execution_count": 43,
   "metadata": {},
   "outputs": [],
   "source": [
    "del merge_2['created_date_user']"
   ]
  },
  {
   "cell_type": "code",
   "execution_count": 44,
   "metadata": {},
   "outputs": [],
   "source": [
    "#merge_2.head(4)"
   ]
  },
  {
   "cell_type": "markdown",
   "metadata": {},
   "source": [
    "### Now, we will create ourr target variable. Based on the EDA (95 percentile populations does consecutive transactions in a window of 5 days), we define engaged users who did atleast 1 transaction in a window of 5 days\n",
    "### So, we look ahead of the notification date, 5 days, and flag 'engagement' columns as 1 if number of transactions >= 1"
   ]
  },
  {
   "cell_type": "code",
   "execution_count": 45,
   "metadata": {},
   "outputs": [],
   "source": [
    "merge_2['num_trans_5da'] = None\n",
    "for uid, dt in zip(merge_2.user_id, merge_2.created_date):\n",
    "    merge_2.loc[(merge_2.user_id == uid) & \n",
    "                     (merge_2.created_date == dt), 'num_trans_5da'] = transactions[(transactions.user_id == uid) & \n",
    "                                                                                         (transactions.transactions_state == 'COMPLETED')&\n",
    "                                                                                             \n",
    "                                                                                                \n",
    "                                                                                        (transactions.created_date >= dt) & \n",
    "                                                                                        (transactions.created_date <= dt + pd.DateOffset(days = 5))]['transaction_id'].count()\n",
    " "
   ]
  },
  {
   "cell_type": "code",
   "execution_count": 46,
   "metadata": {},
   "outputs": [],
   "source": [
    "merge_2['engaged'] = 0\n",
    "merge_2.loc[merge_2.num_trans_5da >=1, 'engaged'] = 1"
   ]
  },
  {
   "cell_type": "code",
   "execution_count": 47,
   "metadata": {},
   "outputs": [],
   "source": [
    "#merge_2.head()"
   ]
  },
  {
   "cell_type": "code",
   "execution_count": 48,
   "metadata": {},
   "outputs": [],
   "source": [
    "del merge_2['num_trans_5da']"
   ]
  },
  {
   "cell_type": "code",
   "execution_count": 49,
   "metadata": {},
   "outputs": [],
   "source": [
    "merge_2.to_csv('/Users/nisha/Desktop/final_master.csv')"
   ]
  },
  {
   "cell_type": "markdown",
   "metadata": {},
   "source": [
    "#### Let's convert a string column to float type"
   ]
  },
  {
   "cell_type": "code",
   "execution_count": 50,
   "metadata": {},
   "outputs": [],
   "source": [
    "merge_2['trans_5db_transaction_amt_sum'] = merge_2['trans_5db_transaction_amt_sum'].astype('float')\n",
    "merge_2['trans_10db_transaction_amt_sum'] = merge_2['trans_10db_transaction_amt_sum'].astype('float')"
   ]
  },
  {
   "cell_type": "markdown",
   "metadata": {},
   "source": [
    "#### And check for missing values"
   ]
  },
  {
   "cell_type": "code",
   "execution_count": 51,
   "metadata": {},
   "outputs": [
    {
     "data": {
      "text/plain": [
       "reason                                        0\n",
       "trans_45db_CARD_REFUND_not                    0\n",
       "trans_30db_CARD_REFUND_not                    0\n",
       "trans_15db_CARD_REFUND_not                    0\n",
       "trans_7db_CARD_REFUND_not                     0\n",
       "trans_3db_CARD_REFUND_not                     0\n",
       "trans_1db_CARD_REFUND_not                     0\n",
       "trans_45db_FEE_not                            0\n",
       "trans_30db_FEE_not                            0\n",
       "trans_15db_FEE_not                            0\n",
       "trans_7db_FEE_not                             0\n",
       "trans_3db_FEE_not                             0\n",
       "trans_1db_FEE_not                             0\n",
       "trans_45db_CASHBACK_not                       0\n",
       "trans_30db_CASHBACK_not                       0\n",
       "trans_15db_CASHBACK_not                       0\n",
       "trans_7db_CASHBACK_not                        0\n",
       "trans_3db_CASHBACK_not                        0\n",
       "trans_1db_CARD_TAX_not                        0\n",
       "trans_1db_CASHBACK_not                        0\n",
       "trans_3db_CARD_TAX_not                        0\n",
       "trans_15db_CARD_TAX_not                       0\n",
       "num_successful_referrals                      0\n",
       "num_referrals                                 0\n",
       "num_contacts                                  0\n",
       "plan                                          0\n",
       "user_settings_crypto_unlocked                 0\n",
       "city                                          0\n",
       "country                                       0\n",
       "birth_year                                    0\n",
       "                                           ... \n",
       "created_date                                  0\n",
       "user_id                                       0\n",
       "status                                        0\n",
       "channel                                       0\n",
       "trans_45db_card_pay_not                       0\n",
       "trans_30db_ATM_not                            0\n",
       "trans_1db_TRANSFER_not                        0\n",
       "trans_7db_TRANSFER_not                        0\n",
       "trans_7db_ATM_not                             0\n",
       "trans_3db_ATM_not                             0\n",
       "trans_1db_ATM_not                             0\n",
       "trans_45db_EXCHANGE_not                       0\n",
       "trans_30db_EXCHANGE_not                       0\n",
       "trans_15db_EXCHANGE_not                       0\n",
       "trans_7db_EXCHANGE_not                        0\n",
       "trans_3db_TRANSFER_not                        0\n",
       "trans_1db_EXCHANGE_not                        0\n",
       "trans_3db_EXCHANGE_not                        0\n",
       "trans_30db_TOPUP_not                          0\n",
       "trans_15db_TOPUP_not                          0\n",
       "trans_7db_TOPUP_not                           0\n",
       "trans_3db_TOPUP_not                           0\n",
       "trans_1db_TOPUP_not                           0\n",
       "trans_45db_TRANSFER_not                       0\n",
       "trans_30db_TRANSFER_not                       0\n",
       "trans_15db_TRANSFER_not                       0\n",
       "trans_45db_TOPUP_not                          0\n",
       "engaged                                       0\n",
       "attributes_notifications_marketing_push     786\n",
       "attributes_notifications_marketing_email    786\n",
       "Length: 86, dtype: int64"
      ]
     },
     "execution_count": 51,
     "metadata": {},
     "output_type": "execute_result"
    }
   ],
   "source": [
    "merge_2.isnull().sum().sort_values()"
   ]
  },
  {
   "cell_type": "markdown",
   "metadata": {},
   "source": [
    "#### Only two numeric columns with 3 levels has missing. We will treat these two columns as categorical and add 'NA' as the fourth category replacing missing"
   ]
  },
  {
   "cell_type": "code",
   "execution_count": 52,
   "metadata": {},
   "outputs": [],
   "source": [
    "merge_2 = merge_2.fillna('NA')"
   ]
  },
  {
   "cell_type": "markdown",
   "metadata": {},
   "source": [
    "#### Let's separate numeric and categorical columns"
   ]
  },
  {
   "cell_type": "code",
   "execution_count": 53,
   "metadata": {},
   "outputs": [],
   "source": [
    "import numpy as np\n",
    "num_cols = merge_2.select_dtypes(include=[np.number]).columns"
   ]
  },
  {
   "cell_type": "code",
   "execution_count": 54,
   "metadata": {},
   "outputs": [],
   "source": [
    "cat_cols = [col for col in merge_2.columns if col not in num_cols]"
   ]
  },
  {
   "cell_type": "code",
   "execution_count": 55,
   "metadata": {},
   "outputs": [
    {
     "name": "stdout",
     "output_type": "stream",
     "text": [
      "86\n"
     ]
    }
   ],
   "source": [
    "print(len(cat_cols) + len(num_cols))"
   ]
  },
  {
   "cell_type": "code",
   "execution_count": 56,
   "metadata": {},
   "outputs": [
    {
     "data": {
      "text/plain": [
       "86"
      ]
     },
     "execution_count": 56,
     "metadata": {},
     "output_type": "execute_result"
    }
   ],
   "source": [
    "len(merge_2.columns)"
   ]
  },
  {
   "cell_type": "code",
   "execution_count": 57,
   "metadata": {},
   "outputs": [
    {
     "data": {
      "text/plain": [
       "['reason',\n",
       " 'channel',\n",
       " 'status',\n",
       " 'user_id',\n",
       " 'created_date',\n",
       " 'brand',\n",
       " 'country',\n",
       " 'city',\n",
       " 'plan',\n",
       " 'attributes_notifications_marketing_push',\n",
       " 'attributes_notifications_marketing_email']"
      ]
     },
     "execution_count": 57,
     "metadata": {},
     "output_type": "execute_result"
    }
   ],
   "source": [
    "cat_cols"
   ]
  },
  {
   "cell_type": "code",
   "execution_count": 58,
   "metadata": {},
   "outputs": [],
   "source": [
    "dummy_df = pd.get_dummies(merge_2[['reason',\n",
    " 'channel',\n",
    " 'status',\n",
    " 'brand',\n",
    " 'country',\n",
    " 'city',\n",
    " 'plan','attributes_notifications_marketing_push', 'attributes_notifications_marketing_email']])"
   ]
  },
  {
   "cell_type": "code",
   "execution_count": 59,
   "metadata": {},
   "outputs": [
    {
     "data": {
      "text/plain": [
       "['year',\n",
       " 'month',\n",
       " 'trans_1db_not',\n",
       " 'trans_3db_not',\n",
       " 'trans_7db_not',\n",
       " 'trans_15db_not',\n",
       " 'trans_30db_not',\n",
       " 'trans_45db_not',\n",
       " 'trans_1db_card_pay_not',\n",
       " 'trans_3db_card_pay_not',\n",
       " 'trans_7db_card_pay_not',\n",
       " 'trans_15db_card_pay_not',\n",
       " 'trans_30db_card_pay_not',\n",
       " 'trans_45db_card_pay_not',\n",
       " 'trans_1db_TRANSFER_not',\n",
       " 'trans_3db_TRANSFER_not',\n",
       " 'trans_7db_TRANSFER_not',\n",
       " 'trans_15db_TRANSFER_not',\n",
       " 'trans_30db_TRANSFER_not',\n",
       " 'trans_45db_TRANSFER_not',\n",
       " 'trans_1db_TOPUP_not',\n",
       " 'trans_3db_TOPUP_not',\n",
       " 'trans_7db_TOPUP_not',\n",
       " 'trans_15db_TOPUP_not',\n",
       " 'trans_30db_TOPUP_not',\n",
       " 'trans_45db_TOPUP_not',\n",
       " 'trans_1db_EXCHANGE_not',\n",
       " 'trans_3db_EXCHANGE_not',\n",
       " 'trans_7db_EXCHANGE_not',\n",
       " 'trans_15db_EXCHANGE_not',\n",
       " 'trans_30db_EXCHANGE_not',\n",
       " 'trans_45db_EXCHANGE_not',\n",
       " 'trans_1db_ATM_not',\n",
       " 'trans_3db_ATM_not',\n",
       " 'trans_7db_ATM_not',\n",
       " 'trans_15db_ATM_not',\n",
       " 'trans_30db_ATM_not',\n",
       " 'trans_45db_ATM_not',\n",
       " 'trans_1db_CASHBACK_not',\n",
       " 'trans_3db_CASHBACK_not',\n",
       " 'trans_7db_CASHBACK_not',\n",
       " 'trans_15db_CASHBACK_not',\n",
       " 'trans_30db_CASHBACK_not',\n",
       " 'trans_45db_CASHBACK_not',\n",
       " 'trans_1db_FEE_not',\n",
       " 'trans_3db_FEE_not',\n",
       " 'trans_7db_FEE_not',\n",
       " 'trans_15db_FEE_not',\n",
       " 'trans_30db_FEE_not',\n",
       " 'trans_45db_FEE_not',\n",
       " 'trans_1db_CARD_REFUND_not',\n",
       " 'trans_3db_CARD_REFUND_not',\n",
       " 'trans_7db_CARD_REFUND_not',\n",
       " 'trans_15db_CARD_REFUND_not',\n",
       " 'trans_30db_CARD_REFUND_not',\n",
       " 'trans_45db_CARD_REFUND_not',\n",
       " 'trans_1db_CARD_TAX_not',\n",
       " 'trans_3db_CARD_TAX_not',\n",
       " 'trans_7db_CARD_TAX_not',\n",
       " 'trans_15db_CARD_TAX_not',\n",
       " 'trans_30db_CARD_TAX_not',\n",
       " 'trans_45db_CARD_TAX_not',\n",
       " 'trans_5db_transaction_amt_sum',\n",
       " 'trans_10db_transaction_amt_sum',\n",
       " 'trans_5db_Outbound',\n",
       " 'trans_10db_Outbound',\n",
       " 'trans_5db_Inbound',\n",
       " 'trans_10db_Inbound',\n",
       " 'birth_year',\n",
       " 'user_settings_crypto_unlocked',\n",
       " 'num_contacts',\n",
       " 'num_referrals',\n",
       " 'num_successful_referrals',\n",
       " 'days_since_onboard',\n",
       " 'engaged']"
      ]
     },
     "execution_count": 59,
     "metadata": {},
     "output_type": "execute_result"
    }
   ],
   "source": [
    "num_cols = [col for col in num_cols if col not in ['attributes_notifications_marketing_push', 'attributes_notifications_marketing_email']]\n",
    "num_cols"
   ]
  },
  {
   "cell_type": "markdown",
   "metadata": {},
   "source": [
    "### The final dataset"
   ]
  },
  {
   "cell_type": "code",
   "execution_count": 100,
   "metadata": {},
   "outputs": [],
   "source": [
    "frames = [merge_2[['user_id','created_date']], dummy_df, merge_2[num_cols]]\n",
    "final_df = pd.concat(frames, axis = 1)"
   ]
  },
  {
   "cell_type": "code",
   "execution_count": 101,
   "metadata": {},
   "outputs": [],
   "source": [
    "final_df.to_csv('/Users/nisha/Desktop/final_data.csv')"
   ]
  },
  {
   "cell_type": "code",
   "execution_count": 102,
   "metadata": {},
   "outputs": [
    {
     "data": {
      "text/html": [
       "<div>\n",
       "<style scoped>\n",
       "    .dataframe tbody tr th:only-of-type {\n",
       "        vertical-align: middle;\n",
       "    }\n",
       "\n",
       "    .dataframe tbody tr th {\n",
       "        vertical-align: top;\n",
       "    }\n",
       "\n",
       "    .dataframe thead th {\n",
       "        text-align: right;\n",
       "    }\n",
       "</style>\n",
       "<table border=\"1\" class=\"dataframe\">\n",
       "  <thead>\n",
       "    <tr style=\"text-align: right;\">\n",
       "      <th></th>\n",
       "      <th>user_id</th>\n",
       "      <th>created_date</th>\n",
       "      <th>reason_JOINING_ANNIVERSARY</th>\n",
       "      <th>reason_LOST_CARD_ORDER</th>\n",
       "      <th>reason_MADE_MONEY_REQUEST_NOT_SPLIT_BILL</th>\n",
       "      <th>reason_NO_INITIAL_CARD_USE</th>\n",
       "      <th>reason_PREMIUM_ENGAGEMENT_FEES_SAVED</th>\n",
       "      <th>reason_WELCOME_HOME</th>\n",
       "      <th>channel_EMAIL</th>\n",
       "      <th>channel_PUSH</th>\n",
       "      <th>...</th>\n",
       "      <th>trans_10db_Outbound</th>\n",
       "      <th>trans_5db_Inbound</th>\n",
       "      <th>trans_10db_Inbound</th>\n",
       "      <th>birth_year</th>\n",
       "      <th>user_settings_crypto_unlocked</th>\n",
       "      <th>num_contacts</th>\n",
       "      <th>num_referrals</th>\n",
       "      <th>num_successful_referrals</th>\n",
       "      <th>days_since_onboard</th>\n",
       "      <th>engaged</th>\n",
       "    </tr>\n",
       "  </thead>\n",
       "  <tbody>\n",
       "    <tr>\n",
       "      <th>0</th>\n",
       "      <td>user_5157</td>\n",
       "      <td>2019-04-26</td>\n",
       "      <td>0</td>\n",
       "      <td>0</td>\n",
       "      <td>0</td>\n",
       "      <td>1</td>\n",
       "      <td>0</td>\n",
       "      <td>0</td>\n",
       "      <td>1</td>\n",
       "      <td>0</td>\n",
       "      <td>...</td>\n",
       "      <td>0</td>\n",
       "      <td>0</td>\n",
       "      <td>0</td>\n",
       "      <td>1986</td>\n",
       "      <td>0</td>\n",
       "      <td>41</td>\n",
       "      <td>0</td>\n",
       "      <td>0</td>\n",
       "      <td>341</td>\n",
       "      <td>0</td>\n",
       "    </tr>\n",
       "    <tr>\n",
       "      <th>1</th>\n",
       "      <td>user_8552</td>\n",
       "      <td>2019-05-01</td>\n",
       "      <td>0</td>\n",
       "      <td>0</td>\n",
       "      <td>0</td>\n",
       "      <td>1</td>\n",
       "      <td>0</td>\n",
       "      <td>0</td>\n",
       "      <td>1</td>\n",
       "      <td>0</td>\n",
       "      <td>...</td>\n",
       "      <td>1</td>\n",
       "      <td>0</td>\n",
       "      <td>0</td>\n",
       "      <td>1988</td>\n",
       "      <td>0</td>\n",
       "      <td>27</td>\n",
       "      <td>0</td>\n",
       "      <td>0</td>\n",
       "      <td>275</td>\n",
       "      <td>0</td>\n",
       "    </tr>\n",
       "    <tr>\n",
       "      <th>2</th>\n",
       "      <td>user_4465</td>\n",
       "      <td>2019-05-01</td>\n",
       "      <td>0</td>\n",
       "      <td>0</td>\n",
       "      <td>0</td>\n",
       "      <td>1</td>\n",
       "      <td>0</td>\n",
       "      <td>0</td>\n",
       "      <td>1</td>\n",
       "      <td>0</td>\n",
       "      <td>...</td>\n",
       "      <td>1</td>\n",
       "      <td>0</td>\n",
       "      <td>0</td>\n",
       "      <td>1984</td>\n",
       "      <td>0</td>\n",
       "      <td>0</td>\n",
       "      <td>0</td>\n",
       "      <td>0</td>\n",
       "      <td>376</td>\n",
       "      <td>0</td>\n",
       "    </tr>\n",
       "    <tr>\n",
       "      <th>3</th>\n",
       "      <td>user_8643</td>\n",
       "      <td>2019-05-03</td>\n",
       "      <td>0</td>\n",
       "      <td>0</td>\n",
       "      <td>0</td>\n",
       "      <td>1</td>\n",
       "      <td>0</td>\n",
       "      <td>0</td>\n",
       "      <td>1</td>\n",
       "      <td>0</td>\n",
       "      <td>...</td>\n",
       "      <td>0</td>\n",
       "      <td>0</td>\n",
       "      <td>0</td>\n",
       "      <td>1987</td>\n",
       "      <td>0</td>\n",
       "      <td>0</td>\n",
       "      <td>0</td>\n",
       "      <td>0</td>\n",
       "      <td>288</td>\n",
       "      <td>1</td>\n",
       "    </tr>\n",
       "    <tr>\n",
       "      <th>4</th>\n",
       "      <td>user_4465</td>\n",
       "      <td>2019-05-02</td>\n",
       "      <td>0</td>\n",
       "      <td>0</td>\n",
       "      <td>0</td>\n",
       "      <td>1</td>\n",
       "      <td>0</td>\n",
       "      <td>0</td>\n",
       "      <td>1</td>\n",
       "      <td>0</td>\n",
       "      <td>...</td>\n",
       "      <td>1</td>\n",
       "      <td>0</td>\n",
       "      <td>0</td>\n",
       "      <td>1984</td>\n",
       "      <td>0</td>\n",
       "      <td>0</td>\n",
       "      <td>0</td>\n",
       "      <td>0</td>\n",
       "      <td>377</td>\n",
       "      <td>0</td>\n",
       "    </tr>\n",
       "  </tbody>\n",
       "</table>\n",
       "<p>5 rows × 1328 columns</p>\n",
       "</div>"
      ],
      "text/plain": [
       "     user_id created_date  reason_JOINING_ANNIVERSARY  reason_LOST_CARD_ORDER  \\\n",
       "0  user_5157   2019-04-26                           0                       0   \n",
       "1  user_8552   2019-05-01                           0                       0   \n",
       "2  user_4465   2019-05-01                           0                       0   \n",
       "3  user_8643   2019-05-03                           0                       0   \n",
       "4  user_4465   2019-05-02                           0                       0   \n",
       "\n",
       "   reason_MADE_MONEY_REQUEST_NOT_SPLIT_BILL  reason_NO_INITIAL_CARD_USE  \\\n",
       "0                                         0                           1   \n",
       "1                                         0                           1   \n",
       "2                                         0                           1   \n",
       "3                                         0                           1   \n",
       "4                                         0                           1   \n",
       "\n",
       "   reason_PREMIUM_ENGAGEMENT_FEES_SAVED  reason_WELCOME_HOME  channel_EMAIL  \\\n",
       "0                                     0                    0              1   \n",
       "1                                     0                    0              1   \n",
       "2                                     0                    0              1   \n",
       "3                                     0                    0              1   \n",
       "4                                     0                    0              1   \n",
       "\n",
       "   channel_PUSH  ...  trans_10db_Outbound  trans_5db_Inbound  \\\n",
       "0             0  ...                    0                  0   \n",
       "1             0  ...                    1                  0   \n",
       "2             0  ...                    1                  0   \n",
       "3             0  ...                    0                  0   \n",
       "4             0  ...                    1                  0   \n",
       "\n",
       "   trans_10db_Inbound  birth_year  user_settings_crypto_unlocked  \\\n",
       "0                   0        1986                              0   \n",
       "1                   0        1988                              0   \n",
       "2                   0        1984                              0   \n",
       "3                   0        1987                              0   \n",
       "4                   0        1984                              0   \n",
       "\n",
       "   num_contacts  num_referrals  num_successful_referrals  days_since_onboard  \\\n",
       "0            41              0                         0                 341   \n",
       "1            27              0                         0                 275   \n",
       "2             0              0                         0                 376   \n",
       "3             0              0                         0                 288   \n",
       "4             0              0                         0                 377   \n",
       "\n",
       "   engaged  \n",
       "0        0  \n",
       "1        0  \n",
       "2        0  \n",
       "3        1  \n",
       "4        0  \n",
       "\n",
       "[5 rows x 1328 columns]"
      ]
     },
     "execution_count": 102,
     "metadata": {},
     "output_type": "execute_result"
    }
   ],
   "source": [
    "final_df.head(5)"
   ]
  },
  {
   "cell_type": "markdown",
   "metadata": {},
   "source": [
    "#### Check for class imbalance"
   ]
  },
  {
   "cell_type": "code",
   "execution_count": 103,
   "metadata": {},
   "outputs": [
    {
     "data": {
      "text/plain": [
       "0    1735\n",
       "1    1605\n",
       "Name: engaged, dtype: int64"
      ]
     },
     "execution_count": 103,
     "metadata": {},
     "output_type": "execute_result"
    }
   ],
   "source": [
    "final_df['engaged'].value_counts()"
   ]
  },
  {
   "cell_type": "markdown",
   "metadata": {},
   "source": [
    "### Let's hit our baseline logistic regression model"
   ]
  },
  {
   "cell_type": "code",
   "execution_count": 104,
   "metadata": {},
   "outputs": [],
   "source": [
    "from sklearn.datasets import make_classification\n",
    "from matplotlib import pyplot as plt\n",
    "from sklearn.linear_model import LogisticRegression\n",
    "import seaborn as sns\n",
    "sns.set()\n",
    "from sklearn.model_selection import train_test_split\n",
    "from sklearn.metrics import confusion_matrix"
   ]
  },
  {
   "cell_type": "code",
   "execution_count": 105,
   "metadata": {},
   "outputs": [],
   "source": [
    "x_train, x_test, y_train, y_test = train_test_split(final_df.loc[:, (final_df.columns != 'user_id')&\n",
    "                                                                (final_df.columns != 'created_date')&\n",
    "                                                                (final_df.columns != 'engaged')], final_df['engaged'], random_state=42)\n",
    "\n",
    "\n",
    "\n",
    "\n"
   ]
  },
  {
   "cell_type": "code",
   "execution_count": 106,
   "metadata": {},
   "outputs": [
    {
     "name": "stderr",
     "output_type": "stream",
     "text": [
      "C:\\Users\\nisha\\Anaconda3\\lib\\site-packages\\sklearn\\linear_model\\logistic.py:432: FutureWarning: Default solver will be changed to 'lbfgs' in 0.22. Specify a solver to silence this warning.\n",
      "  FutureWarning)\n",
      "C:\\Users\\nisha\\Anaconda3\\lib\\site-packages\\sklearn\\svm\\base.py:929: ConvergenceWarning: Liblinear failed to converge, increase the number of iterations.\n",
      "  \"the number of iterations.\", ConvergenceWarning)\n"
     ]
    },
    {
     "data": {
      "text/plain": [
       "LogisticRegression(C=1.0, class_weight=None, dual=False, fit_intercept=True,\n",
       "                   intercept_scaling=1, l1_ratio=None, max_iter=100,\n",
       "                   multi_class='warn', n_jobs=None, penalty='l2',\n",
       "                   random_state=None, solver='warn', tol=0.0001, verbose=0,\n",
       "                   warm_start=False)"
      ]
     },
     "execution_count": 106,
     "metadata": {},
     "output_type": "execute_result"
    }
   ],
   "source": [
    "lr = LogisticRegression()\n",
    "lr.fit(x_train, y_train)"
   ]
  },
  {
   "cell_type": "code",
   "execution_count": 107,
   "metadata": {},
   "outputs": [
    {
     "name": "stdout",
     "output_type": "stream",
     "text": [
      "[[-0.18387034  0.19039598  0.16331999 ...  0.          0.\n",
      "  -0.0008104 ]]\n",
      "[1.55842174e-07]\n"
     ]
    }
   ],
   "source": [
    "print(lr.coef_)\n",
    "print(lr.intercept_)"
   ]
  },
  {
   "cell_type": "code",
   "execution_count": 108,
   "metadata": {},
   "outputs": [],
   "source": [
    "y_pred = lr.predict(x_test)\n",
    "y_pred = [round(value) for value in y_pred]"
   ]
  },
  {
   "cell_type": "code",
   "execution_count": 109,
   "metadata": {},
   "outputs": [
    {
     "data": {
      "text/plain": [
       "array([[392,  25],\n",
       "       [116, 302]], dtype=int64)"
      ]
     },
     "execution_count": 109,
     "metadata": {},
     "output_type": "execute_result"
    }
   ],
   "source": [
    "confusion_matrix(y_test, y_pred)"
   ]
  },
  {
   "cell_type": "code",
   "execution_count": 110,
   "metadata": {},
   "outputs": [
    {
     "name": "stdout",
     "output_type": "stream",
     "text": [
      "Accuracy: 83.11%\n"
     ]
    }
   ],
   "source": [
    "from sklearn.metrics import accuracy_score\n",
    "accuracy = accuracy_score(y_test, y_pred)\n",
    "print(\"Accuracy: %.2f%%\" % (accuracy*100.0))"
   ]
  },
  {
   "cell_type": "code",
   "execution_count": 71,
   "metadata": {},
   "outputs": [
    {
     "name": "stdout",
     "output_type": "stream",
     "text": [
      "train_roc :  0.9289022580228654\n",
      "test_roc :  0.9070313127488441\n"
     ]
    }
   ],
   "source": [
    "from sklearn.metrics import roc_auc_score\n",
    "train_roc = roc_auc_score(y_train, lr.predict_proba(x_train)[:,-1])\n",
    "test_roc = roc_auc_score(y_test, lr.predict_proba(x_test)[:,-1])\n",
    "print('train_roc : ', train_roc)\n",
    "print('test_roc : ', test_roc)"
   ]
  },
  {
   "cell_type": "markdown",
   "metadata": {},
   "source": [
    "#### Let's push with Xgboost now"
   ]
  },
  {
   "cell_type": "code",
   "execution_count": 72,
   "metadata": {},
   "outputs": [],
   "source": [
    "from xgboost import XGBClassifier"
   ]
  },
  {
   "cell_type": "code",
   "execution_count": 73,
   "metadata": {},
   "outputs": [
    {
     "data": {
      "text/plain": [
       "XGBClassifier(base_score=0.5, booster='gbtree', colsample_bylevel=1,\n",
       "              colsample_bytree=1, gamma=0, learning_rate=0.1, max_delta_step=0,\n",
       "              max_depth=3, min_child_weight=1, missing=None, n_estimators=100,\n",
       "              n_jobs=1, nthread=None, objective='binary:logistic',\n",
       "              random_state=0, reg_alpha=0, reg_lambda=1, scale_pos_weight=1,\n",
       "              seed=None, silent=True, subsample=1)"
      ]
     },
     "execution_count": 73,
     "metadata": {},
     "output_type": "execute_result"
    }
   ],
   "source": [
    "xgb_clf = XGBClassifier(max_depth=3,n_estimators = 100 )\n",
    "xgb_clf.fit(x_train, y_train)"
   ]
  },
  {
   "cell_type": "code",
   "execution_count": 74,
   "metadata": {},
   "outputs": [],
   "source": [
    "y_pred = xgb_clf.predict(x_test)\n",
    "y_pred = [round(value) for value in y_pred]"
   ]
  },
  {
   "cell_type": "code",
   "execution_count": 75,
   "metadata": {},
   "outputs": [
    {
     "data": {
      "text/plain": [
       "array([[391,  26],\n",
       "       [105, 313]], dtype=int64)"
      ]
     },
     "execution_count": 75,
     "metadata": {},
     "output_type": "execute_result"
    }
   ],
   "source": [
    "confusion_matrix(y_test, y_pred)"
   ]
  },
  {
   "cell_type": "code",
   "execution_count": 76,
   "metadata": {},
   "outputs": [
    {
     "name": "stdout",
     "output_type": "stream",
     "text": [
      "Accuracy: 84.31%\n"
     ]
    }
   ],
   "source": [
    "from sklearn.metrics import accuracy_score\n",
    "accuracy = accuracy_score(y_test, y_pred)\n",
    "print(\"Accuracy: %.2f%%\" % (accuracy*100.0))"
   ]
  },
  {
   "cell_type": "code",
   "execution_count": 77,
   "metadata": {},
   "outputs": [
    {
     "name": "stdout",
     "output_type": "stream",
     "text": [
      "train_roc :  0.9442876994450502\n",
      "test_roc :  0.9143316925407042\n"
     ]
    }
   ],
   "source": [
    "from sklearn.metrics import roc_auc_score\n",
    "train_roc = roc_auc_score(y_train, xgb_clf.predict_proba(x_train)[:,-1])\n",
    "test_roc = roc_auc_score(y_test, xgb_clf.predict_proba(x_test)[:,-1])\n",
    "print('train_roc : ', train_roc)\n",
    "print('test_roc : ', test_roc)"
   ]
  },
  {
   "cell_type": "markdown",
   "metadata": {},
   "source": [
    "#### Leaving space for hyper parameter tuning part"
   ]
  },
  {
   "cell_type": "code",
   "execution_count": 78,
   "metadata": {},
   "outputs": [
    {
     "name": "stdout",
     "output_type": "stream",
     "text": [
      "Best: -0.341955 using {'colsample_bytree': 0.9, 'max_depth': 6, 'n_estimators': 100, 'subsample': 0.9}\n",
      "-0.344577 (0.020552) with: {'colsample_bytree': 0.9, 'max_depth': 4, 'n_estimators': 100, 'subsample': 0.9}\n",
      "-0.341955 (0.025577) with: {'colsample_bytree': 0.9, 'max_depth': 6, 'n_estimators': 100, 'subsample': 0.9}\n"
     ]
    }
   ],
   "source": [
    "from sklearn. model_selection import GridSearchCV\n",
    "import xgboost as xgb\n",
    "clf = xgb.XGBClassifier()\n",
    "parameters = {\n",
    "    'n_estimators': [100],\n",
    "    'max_depth': [4,6],\n",
    "    'subsample': [0.9],\n",
    "    'colsample_bytree': [0.9]\n",
    "}\n",
    "\n",
    "grid = GridSearchCV(clf, parameters, n_jobs = -1, scoring = 'neg_log_loss', cv = 5)\n",
    "\n",
    "grid.fit(x_train, y_train)\n",
    "print('Best: %f using %s' % (grid.best_score_, grid.best_params_))\n",
    "\n",
    "means = grid.cv_results_['mean_test_score']\n",
    "stds = grid.cv_results_['std_test_score']\n",
    "params = grid.cv_results_['params']\n",
    "\n",
    "for mean, stdev, param in zip(means, stds, params):\n",
    "    print(\"%f (%f) with: %r\" % (mean, stdev, param))"
   ]
  },
  {
   "cell_type": "markdown",
   "metadata": {},
   "source": [
    "#### Maybe a look at the feature importance"
   ]
  },
  {
   "cell_type": "code",
   "execution_count": 79,
   "metadata": {},
   "outputs": [
    {
     "data": {
      "image/png": "[encoded data removed]",
      "text/plain": [
       "<Figure size 576x864 with 1 Axes>"
      ]
     },
     "metadata": {
      "needs_background": "light"
     },
     "output_type": "display_data"
    }
   ],
   "source": [
    "from matplotlib import rcParams\n",
    "import xgboost as xgb\n",
    "rcParams.update({'figure.autolayout': True})\n",
    "fig, ax = plt.subplots(figsize=(8,12))\n",
    "xgb.plot_importance(xgb_clf, max_num_features = 35, height = 0.8, ax = ax)\n",
    "plt.show()"
   ]
  },
  {
   "cell_type": "markdown",
   "metadata": {},
   "source": [
    "#### Leaving space for cross validation part"
   ]
  },
  {
   "cell_type": "code",
   "execution_count": 81,
   "metadata": {},
   "outputs": [],
   "source": [
    "df22 = pd.DataFrame([])\n",
    "\n",
    "ll2 = list(y_train) + list(y_test)\n",
    "df22['label'] = ll2\n",
    "\n",
    "df2 = x_train.append(x_test)\n",
    "\n",
    "dt2 = xgb.DMatrix(df2, label = df22['label'])"
   ]
  },
  {
   "cell_type": "code",
   "execution_count": 82,
   "metadata": {},
   "outputs": [
    {
     "name": "stdout",
     "output_type": "stream",
     "text": [
      "[12:00:50] C:\\Users\\Administrator\\Desktop\\xgboost\\src\\tree\\updater_prune.cc:74: tree pruning end, 1 roots, 12 extra nodes, 0 pruned nodes, max_depth=3\n",
      "[12:00:51] C:\\Users\\Administrator\\Desktop\\xgboost\\src\\tree\\updater_prune.cc:74: tree pruning end, 1 roots, 12 extra nodes, 0 pruned nodes, max_depth=3\n",
      "[12:00:51] C:\\Users\\Administrator\\Desktop\\xgboost\\src\\tree\\updater_prune.cc:74: tree pruning end, 1 roots, 12 extra nodes, 0 pruned nodes, max_depth=3\n",
      "[12:00:51] C:\\Users\\Administrator\\Desktop\\xgboost\\src\\tree\\updater_prune.cc:74: tree pruning end, 1 roots, 12 extra nodes, 0 pruned nodes, max_depth=3\n",
      "[12:00:51] C:\\Users\\Administrator\\Desktop\\xgboost\\src\\tree\\updater_prune.cc:74: tree pruning end, 1 roots, 12 extra nodes, 0 pruned nodes, max_depth=3\n",
      "[12:00:51] C:\\Users\\Administrator\\Desktop\\xgboost\\src\\tree\\updater_prune.cc:74: tree pruning end, 1 roots, 12 extra nodes, 0 pruned nodes, max_depth=3\n",
      "[12:00:51] C:\\Users\\Administrator\\Desktop\\xgboost\\src\\tree\\updater_prune.cc:74: tree pruning end, 1 roots, 12 extra nodes, 0 pruned nodes, max_depth=3\n",
      "[12:00:51] C:\\Users\\Administrator\\Desktop\\xgboost\\src\\tree\\updater_prune.cc:74: tree pruning end, 1 roots, 12 extra nodes, 0 pruned nodes, max_depth=3\n",
      "[12:00:51] C:\\Users\\Administrator\\Desktop\\xgboost\\src\\tree\\updater_prune.cc:74: tree pruning end, 1 roots, 12 extra nodes, 0 pruned nodes, max_depth=3\n",
      "[12:00:51] C:\\Users\\Administrator\\Desktop\\xgboost\\src\\tree\\updater_prune.cc:74: tree pruning end, 1 roots, 12 extra nodes, 0 pruned nodes, max_depth=3\n",
      "[12:00:51] C:\\Users\\Administrator\\Desktop\\xgboost\\src\\tree\\updater_prune.cc:74: tree pruning end, 1 roots, 8 extra nodes, 0 pruned nodes, max_depth=3\n",
      "[12:00:52] C:\\Users\\Administrator\\Desktop\\xgboost\\src\\tree\\updater_prune.cc:74: tree pruning end, 1 roots, 12 extra nodes, 0 pruned nodes, max_depth=3\n",
      "[12:00:52] C:\\Users\\Administrator\\Desktop\\xgboost\\src\\tree\\updater_prune.cc:74: tree pruning end, 1 roots, 8 extra nodes, 0 pruned nodes, max_depth=3\n",
      "[12:00:52] C:\\Users\\Administrator\\Desktop\\xgboost\\src\\tree\\updater_prune.cc:74: tree pruning end, 1 roots, 12 extra nodes, 0 pruned nodes, max_depth=3\n",
      "[12:00:52] C:\\Users\\Administrator\\Desktop\\xgboost\\src\\tree\\updater_prune.cc:74: tree pruning end, 1 roots, 8 extra nodes, 0 pruned nodes, max_depth=3\n",
      "[12:00:52] C:\\Users\\Administrator\\Desktop\\xgboost\\src\\tree\\updater_prune.cc:74: tree pruning end, 1 roots, 8 extra nodes, 0 pruned nodes, max_depth=3\n",
      "[12:00:52] C:\\Users\\Administrator\\Desktop\\xgboost\\src\\tree\\updater_prune.cc:74: tree pruning end, 1 roots, 8 extra nodes, 0 pruned nodes, max_depth=3\n",
      "[12:00:52] C:\\Users\\Administrator\\Desktop\\xgboost\\src\\tree\\updater_prune.cc:74: tree pruning end, 1 roots, 8 extra nodes, 0 pruned nodes, max_depth=3\n",
      "[12:00:52] C:\\Users\\Administrator\\Desktop\\xgboost\\src\\tree\\updater_prune.cc:74: tree pruning end, 1 roots, 8 extra nodes, 0 pruned nodes, max_depth=3\n",
      "[12:00:52] C:\\Users\\Administrator\\Desktop\\xgboost\\src\\tree\\updater_prune.cc:74: tree pruning end, 1 roots, 8 extra nodes, 0 pruned nodes, max_depth=3\n",
      "[12:00:52] C:\\Users\\Administrator\\Desktop\\xgboost\\src\\tree\\updater_prune.cc:74: tree pruning end, 1 roots, 8 extra nodes, 0 pruned nodes, max_depth=3\n",
      "[12:00:52] C:\\Users\\Administrator\\Desktop\\xgboost\\src\\tree\\updater_prune.cc:74: tree pruning end, 1 roots, 8 extra nodes, 0 pruned nodes, max_depth=3\n",
      "[12:00:52] C:\\Users\\Administrator\\Desktop\\xgboost\\src\\tree\\updater_prune.cc:74: tree pruning end, 1 roots, 8 extra nodes, 0 pruned nodes, max_depth=3\n",
      "[12:00:53] C:\\Users\\Administrator\\Desktop\\xgboost\\src\\tree\\updater_prune.cc:74: tree pruning end, 1 roots, 8 extra nodes, 0 pruned nodes, max_depth=3\n",
      "[12:00:53] C:\\Users\\Administrator\\Desktop\\xgboost\\src\\tree\\updater_prune.cc:74: tree pruning end, 1 roots, 8 extra nodes, 0 pruned nodes, max_depth=3\n",
      "[12:00:53] C:\\Users\\Administrator\\Desktop\\xgboost\\src\\tree\\updater_prune.cc:74: tree pruning end, 1 roots, 8 extra nodes, 0 pruned nodes, max_depth=3\n",
      "[12:00:53] C:\\Users\\Administrator\\Desktop\\xgboost\\src\\tree\\updater_prune.cc:74: tree pruning end, 1 roots, 8 extra nodes, 0 pruned nodes, max_depth=3\n",
      "[12:00:53] C:\\Users\\Administrator\\Desktop\\xgboost\\src\\tree\\updater_prune.cc:74: tree pruning end, 1 roots, 8 extra nodes, 0 pruned nodes, max_depth=3\n",
      "[12:00:53] C:\\Users\\Administrator\\Desktop\\xgboost\\src\\tree\\updater_prune.cc:74: tree pruning end, 1 roots, 8 extra nodes, 0 pruned nodes, max_depth=3\n",
      "[12:00:53] C:\\Users\\Administrator\\Desktop\\xgboost\\src\\tree\\updater_prune.cc:74: tree pruning end, 1 roots, 8 extra nodes, 0 pruned nodes, max_depth=3\n",
      "[12:00:53] C:\\Users\\Administrator\\Desktop\\xgboost\\src\\tree\\updater_prune.cc:74: tree pruning end, 1 roots, 8 extra nodes, 0 pruned nodes, max_depth=3\n",
      "[12:00:53] C:\\Users\\Administrator\\Desktop\\xgboost\\src\\tree\\updater_prune.cc:74: tree pruning end, 1 roots, 8 extra nodes, 0 pruned nodes, max_depth=3\n",
      "[12:00:53] C:\\Users\\Administrator\\Desktop\\xgboost\\src\\tree\\updater_prune.cc:74: tree pruning end, 1 roots, 8 extra nodes, 0 pruned nodes, max_depth=3\n",
      "[12:00:53] C:\\Users\\Administrator\\Desktop\\xgboost\\src\\tree\\updater_prune.cc:74: tree pruning end, 1 roots, 8 extra nodes, 0 pruned nodes, max_depth=3\n",
      "[12:00:53] C:\\Users\\Administrator\\Desktop\\xgboost\\src\\tree\\updater_prune.cc:74: tree pruning end, 1 roots, 8 extra nodes, 0 pruned nodes, max_depth=3\n",
      "[12:00:54] C:\\Users\\Administrator\\Desktop\\xgboost\\src\\tree\\updater_prune.cc:74: tree pruning end, 1 roots, 8 extra nodes, 0 pruned nodes, max_depth=3\n",
      "[12:00:54] C:\\Users\\Administrator\\Desktop\\xgboost\\src\\tree\\updater_prune.cc:74: tree pruning end, 1 roots, 8 extra nodes, 0 pruned nodes, max_depth=3\n",
      "[12:00:54] C:\\Users\\Administrator\\Desktop\\xgboost\\src\\tree\\updater_prune.cc:74: tree pruning end, 1 roots, 8 extra nodes, 0 pruned nodes, max_depth=3\n",
      "[12:00:54] C:\\Users\\Administrator\\Desktop\\xgboost\\src\\tree\\updater_prune.cc:74: tree pruning end, 1 roots, 8 extra nodes, 0 pruned nodes, max_depth=3\n",
      "[12:00:54] C:\\Users\\Administrator\\Desktop\\xgboost\\src\\tree\\updater_prune.cc:74: tree pruning end, 1 roots, 8 extra nodes, 0 pruned nodes, max_depth=3\n",
      "[12:00:54] C:\\Users\\Administrator\\Desktop\\xgboost\\src\\tree\\updater_prune.cc:74: tree pruning end, 1 roots, 8 extra nodes, 0 pruned nodes, max_depth=3\n",
      "[12:00:54] C:\\Users\\Administrator\\Desktop\\xgboost\\src\\tree\\updater_prune.cc:74: tree pruning end, 1 roots, 8 extra nodes, 0 pruned nodes, max_depth=3\n",
      "[12:00:54] C:\\Users\\Administrator\\Desktop\\xgboost\\src\\tree\\updater_prune.cc:74: tree pruning end, 1 roots, 8 extra nodes, 0 pruned nodes, max_depth=3\n",
      "[12:00:54] C:\\Users\\Administrator\\Desktop\\xgboost\\src\\tree\\updater_prune.cc:74: tree pruning end, 1 roots, 8 extra nodes, 0 pruned nodes, max_depth=3\n",
      "[12:00:54] C:\\Users\\Administrator\\Desktop\\xgboost\\src\\tree\\updater_prune.cc:74: tree pruning end, 1 roots, 8 extra nodes, 0 pruned nodes, max_depth=3\n",
      "[12:00:55] C:\\Users\\Administrator\\Desktop\\xgboost\\src\\tree\\updater_prune.cc:74: tree pruning end, 1 roots, 8 extra nodes, 0 pruned nodes, max_depth=3\n",
      "[12:00:55] C:\\Users\\Administrator\\Desktop\\xgboost\\src\\tree\\updater_prune.cc:74: tree pruning end, 1 roots, 8 extra nodes, 0 pruned nodes, max_depth=3\n",
      "[12:00:55] C:\\Users\\Administrator\\Desktop\\xgboost\\src\\tree\\updater_prune.cc:74: tree pruning end, 1 roots, 8 extra nodes, 0 pruned nodes, max_depth=3\n",
      "[12:00:55] C:\\Users\\Administrator\\Desktop\\xgboost\\src\\tree\\updater_prune.cc:74: tree pruning end, 1 roots, 8 extra nodes, 0 pruned nodes, max_depth=3\n",
      "[12:00:55] C:\\Users\\Administrator\\Desktop\\xgboost\\src\\tree\\updater_prune.cc:74: tree pruning end, 1 roots, 8 extra nodes, 0 pruned nodes, max_depth=3\n"
     ]
    }
   ],
   "source": [
    "xgb_pars = { 'max_depth':3, 'eval_metric': 'auc', 'booster': 'gbtree', 'objective': 'binary:logistic', 'Silent': True}\n",
    "classifier_5fold = xgb.cv(xgb_pars, dt2, nfold = 5, stratified=False)\n"
   ]
  },
  {
   "cell_type": "code",
   "execution_count": 83,
   "metadata": {},
   "outputs": [
    {
     "data": {
      "text/html": [
       "<div>\n",
       "<style scoped>\n",
       "    .dataframe tbody tr th:only-of-type {\n",
       "        vertical-align: middle;\n",
       "    }\n",
       "\n",
       "    .dataframe tbody tr th {\n",
       "        vertical-align: top;\n",
       "    }\n",
       "\n",
       "    .dataframe thead th {\n",
       "        text-align: right;\n",
       "    }\n",
       "</style>\n",
       "<table border=\"1\" class=\"dataframe\">\n",
       "  <thead>\n",
       "    <tr style=\"text-align: right;\">\n",
       "      <th></th>\n",
       "      <th>train-auc-mean</th>\n",
       "      <th>train-auc-std</th>\n",
       "      <th>test-auc-mean</th>\n",
       "      <th>test-auc-std</th>\n",
       "    </tr>\n",
       "  </thead>\n",
       "  <tbody>\n",
       "    <tr>\n",
       "      <th>0</th>\n",
       "      <td>0.897900</td>\n",
       "      <td>0.004228</td>\n",
       "      <td>0.886964</td>\n",
       "      <td>0.014525</td>\n",
       "    </tr>\n",
       "    <tr>\n",
       "      <th>1</th>\n",
       "      <td>0.907024</td>\n",
       "      <td>0.004281</td>\n",
       "      <td>0.894397</td>\n",
       "      <td>0.012086</td>\n",
       "    </tr>\n",
       "    <tr>\n",
       "      <th>2</th>\n",
       "      <td>0.911075</td>\n",
       "      <td>0.002867</td>\n",
       "      <td>0.898621</td>\n",
       "      <td>0.012370</td>\n",
       "    </tr>\n",
       "    <tr>\n",
       "      <th>3</th>\n",
       "      <td>0.912735</td>\n",
       "      <td>0.003356</td>\n",
       "      <td>0.900091</td>\n",
       "      <td>0.012680</td>\n",
       "    </tr>\n",
       "    <tr>\n",
       "      <th>4</th>\n",
       "      <td>0.913830</td>\n",
       "      <td>0.002670</td>\n",
       "      <td>0.901518</td>\n",
       "      <td>0.012226</td>\n",
       "    </tr>\n",
       "    <tr>\n",
       "      <th>5</th>\n",
       "      <td>0.915627</td>\n",
       "      <td>0.002410</td>\n",
       "      <td>0.903443</td>\n",
       "      <td>0.011436</td>\n",
       "    </tr>\n",
       "    <tr>\n",
       "      <th>6</th>\n",
       "      <td>0.916684</td>\n",
       "      <td>0.002125</td>\n",
       "      <td>0.905091</td>\n",
       "      <td>0.011939</td>\n",
       "    </tr>\n",
       "    <tr>\n",
       "      <th>7</th>\n",
       "      <td>0.917624</td>\n",
       "      <td>0.002435</td>\n",
       "      <td>0.906245</td>\n",
       "      <td>0.011387</td>\n",
       "    </tr>\n",
       "    <tr>\n",
       "      <th>8</th>\n",
       "      <td>0.919288</td>\n",
       "      <td>0.002219</td>\n",
       "      <td>0.906952</td>\n",
       "      <td>0.011145</td>\n",
       "    </tr>\n",
       "    <tr>\n",
       "      <th>9</th>\n",
       "      <td>0.920943</td>\n",
       "      <td>0.001965</td>\n",
       "      <td>0.907585</td>\n",
       "      <td>0.011236</td>\n",
       "    </tr>\n",
       "  </tbody>\n",
       "</table>\n",
       "</div>"
      ],
      "text/plain": [
       "   train-auc-mean  train-auc-std  test-auc-mean  test-auc-std\n",
       "0        0.897900       0.004228       0.886964      0.014525\n",
       "1        0.907024       0.004281       0.894397      0.012086\n",
       "2        0.911075       0.002867       0.898621      0.012370\n",
       "3        0.912735       0.003356       0.900091      0.012680\n",
       "4        0.913830       0.002670       0.901518      0.012226\n",
       "5        0.915627       0.002410       0.903443      0.011436\n",
       "6        0.916684       0.002125       0.905091      0.011939\n",
       "7        0.917624       0.002435       0.906245      0.011387\n",
       "8        0.919288       0.002219       0.906952      0.011145\n",
       "9        0.920943       0.001965       0.907585      0.011236"
      ]
     },
     "execution_count": 83,
     "metadata": {},
     "output_type": "execute_result"
    }
   ],
   "source": [
    "classifier_5fold"
   ]
  },
  {
   "cell_type": "markdown",
   "metadata": {},
   "source": [
    "#### Leaving space for Rank Ordering/Lift Curve Part"
   ]
  },
  {
   "cell_type": "code",
   "execution_count": 84,
   "metadata": {},
   "outputs": [],
   "source": [
    "final_df['Predicted_Probability'] = lr.predict_proba(final_df.loc[:, (final_df.columns != 'engaged') &\n",
    "                                                                 (final_df.columns != 'user_id') &\n",
    "                                                                 (final_df.columns != 'created_date')])[:, -1]"
   ]
  },
  {
   "cell_type": "code",
   "execution_count": 85,
   "metadata": {},
   "outputs": [],
   "source": [
    "import numpy as np\n",
    "trn_prob = np.percentile(final_df['Predicted_Probability'], [x for x in list(range(0, 105, 5))])\n",
    "trn_prob[0] = 0\n",
    "trn_prob[-1] = 1"
   ]
  },
  {
   "cell_type": "code",
   "execution_count": 86,
   "metadata": {},
   "outputs": [],
   "source": [
    "final_df['qbin_win'] = pd.cut(final_df['Predicted_Probability'], trn_prob, duplicates='drop')"
   ]
  },
  {
   "cell_type": "code",
   "execution_count": 87,
   "metadata": {},
   "outputs": [
    {
     "data": {
      "text/plain": [
       "qbin_win\n",
       "(0.0, 0.09323726793858]                0.041916\n",
       "(0.09323726793858, 0.1108105003295]    0.035928\n",
       "(0.1108105003295, 0.1261962225038]     0.029940\n",
       "(0.1261962225038, 0.1415235009769]     0.083832\n",
       "(0.1415235009769, 0.1579217398114]     0.107784\n",
       "(0.1579217398114, 0.1806919837022]     0.149701\n",
       "(0.1806919837022, 0.2031199326647]     0.167665\n",
       "(0.2031199326647, 0.2286001128302]     0.191617\n",
       "(0.2286001128302, 0.262928490527]      0.281437\n",
       "(0.262928490527, 0.3090464975708]      0.353293\n",
       "(0.3090464975708, 0.3647735664822]     0.401198\n",
       "(0.3647735664822, 0.4402670716435]     0.526946\n",
       "(0.4402670716435, 0.5705861934516]     0.616766\n",
       "(0.5705861934516, 0.8629245027636]     0.676647\n",
       "(0.8629245027636, 0.9805559705058]     0.952096\n",
       "(0.9805559705058, 0.9990157682482]     0.994012\n",
       "(0.9990157682482, 0.9999845838327]     1.000000\n",
       "(0.9999845838327, 0.99999998635]       1.000000\n",
       "(0.99999998635, 0.9999999999999]       1.000000\n",
       "(0.9999999999999, 1.0]                 1.000000\n",
       "Name: engaged, dtype: float64"
      ]
     },
     "execution_count": 87,
     "metadata": {},
     "output_type": "execute_result"
    }
   ],
   "source": [
    "(final_df.groupby('qbin_win')['engaged'].sum())/(final_df.groupby('qbin_win')['engaged'].count())"
   ]
  },
  {
   "cell_type": "markdown",
   "metadata": {},
   "source": [
    "#### Leaving space for churn analysis/churn modelling part"
   ]
  },
  {
   "cell_type": "code",
   "execution_count": null,
   "metadata": {},
   "outputs": [],
   "source": []
  },
  {
   "cell_type": "code",
   "execution_count": null,
   "metadata": {},
   "outputs": [],
   "source": []
  },
  {
   "cell_type": "code",
   "execution_count": null,
   "metadata": {},
   "outputs": [],
   "source": []
  },
  {
   "cell_type": "markdown",
   "metadata": {},
   "source": [
    "#### Leaving space for Rank Ordering in Churn model part"
   ]
  },
  {
   "cell_type": "code",
   "execution_count": null,
   "metadata": {},
   "outputs": [],
   "source": []
  }
 ],
 "metadata": {
  "kernelspec": {
   "display_name": "Python 3",
   "language": "python",
   "name": "python3"
  },
  "language_info": {
   "codemirror_mode": {
    "name": "ipython",
    "version": 3
   },
   "file_extension": ".py",
   "mimetype": "text/x-python",
   "name": "python",
   "nbconvert_exporter": "python",
   "pygments_lexer": "ipython3",
   "version": "3.6.8"
  }
 },
 "nbformat": 4,
 "nbformat_minor": 2
}
